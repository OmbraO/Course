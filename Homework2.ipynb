{
 "cells": [
  {
   "cell_type": "code",
   "execution_count": 15,
   "id": "ea6ed75e-14dd-4f53-899d-49720cbff4bd",
   "metadata": {},
   "outputs": [],
   "source": [
    "# Write a code to return \"Hero\" from given string\n",
    "example_string1 = \"Hello bro\""
   ]
  },
  {
   "cell_type": "code",
   "execution_count": 52,
   "id": "0edacf32-b812-49c4-9e7e-d10c0f794671",
   "metadata": {},
   "outputs": [
    {
     "data": {
      "text/plain": [
       "'Hero'"
      ]
     },
     "execution_count": 52,
     "metadata": {},
     "output_type": "execute_result"
    }
   ],
   "source": [
    "example_string1[:2] + example_string1[-2:]"
   ]
  },
  {
   "cell_type": "code",
   "execution_count": null,
   "id": "acc8e7db-4f17-472b-b209-8d7dad9f7447",
   "metadata": {},
   "outputs": [],
   "source": []
  },
  {
   "cell_type": "code",
   "execution_count": 31,
   "id": "0137869e-d8ed-41c8-993b-93d95d197774",
   "metadata": {},
   "outputs": [
    {
     "data": {
      "text/plain": [
       "'Jack is my name'"
      ]
     },
     "execution_count": 31,
     "metadata": {},
     "output_type": "execute_result"
    }
   ],
   "source": [
    "# Write a code to return \"Jack is my name\"\n",
    "example_string2 = \"jack Is My NAME\"\n",
    "example_string2.capitalize()"
   ]
  },
  {
   "cell_type": "code",
   "execution_count": null,
   "id": "01e9a530-962e-4b57-aa7e-e032ead345a9",
   "metadata": {},
   "outputs": [],
   "source": []
  },
  {
   "cell_type": "code",
   "execution_count": null,
   "id": "8719671a-9ded-4693-b665-e3bc414f4f16",
   "metadata": {},
   "outputs": [],
   "source": []
  },
  {
   "cell_type": "code",
   "execution_count": 3,
   "id": "7001ef89-3be0-46d8-969f-9ad288f48379",
   "metadata": {},
   "outputs": [],
   "source": [
    "# Write a code to return \"Get rid of junk please\"\n",
    "example_string3 = \"%-*Get rid of *junk* please*-L%*\""
   ]
  },
  {
   "cell_type": "code",
   "execution_count": null,
   "id": "6f64888d-b742-4636-bbc5-60cd010dbd56",
   "metadata": {},
   "outputs": [],
   "source": [
    "example_string3.strip('','').replace('*','')"
   ]
  },
  {
   "cell_type": "code",
   "execution_count": 51,
   "id": "4ed30d68-cd71-433c-b98c-1c768d7720c8",
   "metadata": {},
   "outputs": [
    {
     "data": {
      "text/plain": [
       "'Get rid of junk please'"
      ]
     },
     "execution_count": 51,
     "metadata": {},
     "output_type": "execute_result"
    }
   ],
   "source": [
    "\"%-*Get rid of *junk* please*-L%*\".strip('$').replace('*','').replace('%','').replace('-','').replace('L','')"
   ]
  },
  {
   "cell_type": "code",
   "execution_count": 4,
   "id": "1f8562cf-9121-41d3-84f9-8d794fee2c08",
   "metadata": {},
   "outputs": [],
   "source": [
    "# Write a code to return \"Hello my name is Jack\"\n",
    "example_string4 = \"hello my name is jack\""
   ]
  },
  {
   "cell_type": "code",
   "execution_count": null,
   "id": "83f54cca-1320-4e5f-bbd9-bc0c9189a29d",
   "metadata": {},
   "outputs": [],
   "source": []
  },
  {
   "cell_type": "code",
   "execution_count": null,
   "id": "0ad80bb5-5ad8-424e-9ad3-d4b2b534a18c",
   "metadata": {},
   "outputs": [],
   "source": []
  },
  {
   "cell_type": "code",
   "execution_count": 5,
   "id": "a1e27817-68c7-4596-aee4-9c9206fe4448",
   "metadata": {},
   "outputs": [],
   "source": [
    "# find all occurrences of “Estonia” in a given string ignoring the case.\n",
    "example_string5 = \"Welcome to estonia. Estonia is awesome, isn't it? I moved to ESTONIA 5 years ago.\""
   ]
  },
  {
   "cell_type": "code",
   "execution_count": null,
   "id": "56e49b2b-fad1-40b7-9f9e-41111d5cae8e",
   "metadata": {},
   "outputs": [],
   "source": []
  },
  {
   "cell_type": "code",
   "execution_count": null,
   "id": "f1b91cf4-de98-4023-bd2d-3f5b1d4bf176",
   "metadata": {},
   "outputs": [],
   "source": []
  },
  {
   "cell_type": "code",
   "execution_count": 6,
   "id": "5c0c23b7-9005-4996-9180-4b11bd882bd4",
   "metadata": {},
   "outputs": [],
   "source": [
    "# Write a code to return formatted string \"Hello, my name is Jack\"\n",
    "var1 = \"jack\"\n",
    "var2 = \"hello\"\n",
    "var3 = \"MY NAME IS\""
   ]
  },
  {
   "cell_type": "code",
   "execution_count": 53,
   "id": "32d97583-64a0-4c47-af7a-b58487d1e7f2",
   "metadata": {},
   "outputs": [
    {
     "ename": "NameError",
     "evalue": "name 'var2' is not defined",
     "output_type": "error",
     "traceback": [
      "\u001b[1;31m---------------------------------------------------------------------------\u001b[0m",
      "\u001b[1;31mNameError\u001b[0m                                 Traceback (most recent call last)",
      "Cell \u001b[1;32mIn[53], line 1\u001b[0m\n\u001b[1;32m----> 1\u001b[0m \u001b[38;5;124mf\u001b[39m\u001b[38;5;124m'\u001b[39m\u001b[38;5;132;01m{\u001b[39;00m\u001b[43mvar2\u001b[49m\u001b[38;5;241m.\u001b[39mcapitalize()\u001b[38;5;132;01m}\u001b[39;00m\u001b[38;5;124m, \u001b[39m\u001b[38;5;132;01m{\u001b[39;00mvar3\u001b[38;5;241m.\u001b[39mlower()\u001b[38;5;132;01m}\u001b[39;00m\u001b[38;5;124m \u001b[39m\u001b[38;5;132;01m{\u001b[39;00mvar1\u001b[38;5;241m.\u001b[39mtitle()\u001b[38;5;132;01m}\u001b[39;00m\u001b[38;5;124m'\u001b[39m\n",
      "\u001b[1;31mNameError\u001b[0m: name 'var2' is not defined"
     ]
    }
   ],
   "source": [
    "f'{var2.capitalize()}, {var3.lower()} {var1.title()}'"
   ]
  },
  {
   "cell_type": "code",
   "execution_count": null,
   "id": "7e6c6349-e553-4206-953d-a7336b6ef61a",
   "metadata": {},
   "outputs": [],
   "source": []
  },
  {
   "cell_type": "code",
   "execution_count": 7,
   "id": "da5bb08f-6d9e-4e3b-b36c-f5c138d7136a",
   "metadata": {},
   "outputs": [],
   "source": [
    "# Write a code to return byte_string text value\n",
    "byte_string = b\"\\316\\273\""
   ]
  },
  {
   "cell_type": "code",
   "execution_count": 6,
   "id": "20bc4e8e-c201-418e-89e2-ff99d73edf89",
   "metadata": {},
   "outputs": [
    {
     "ename": "NameError",
     "evalue": "name 'string1' is not defined",
     "output_type": "error",
     "traceback": [
      "\u001b[1;31m---------------------------------------------------------------------------\u001b[0m",
      "\u001b[1;31mNameError\u001b[0m                                 Traceback (most recent call last)",
      "Cell \u001b[1;32mIn[6], line 1\u001b[0m\n\u001b[1;32m----> 1\u001b[0m byte_string \u001b[38;5;241m=\u001b[39m \u001b[43mstring1\u001b[49m\u001b[38;5;241m.\u001b[39mencode(\u001b[38;5;124m'\u001b[39m\u001b[38;5;124mutf32\u001b[39m\u001b[38;5;124m'\u001b[39m)\n",
      "\u001b[1;31mNameError\u001b[0m: name 'string1' is not defined"
     ]
    }
   ],
   "source": [
    "byte_string = decode('utf32')"
   ]
  },
  {
   "cell_type": "code",
   "execution_count": null,
   "id": "b90aac17-ecd2-4c8e-bfe3-2fe4b95f4cc7",
   "metadata": {},
   "outputs": [],
   "source": []
  }
 ],
 "metadata": {
  "kernelspec": {
   "display_name": "Python 3 (ipykernel)",
   "language": "python",
   "name": "python3"
  },
  "language_info": {
   "codemirror_mode": {
    "name": "ipython",
    "version": 3
   },
   "file_extension": ".py",
   "mimetype": "text/x-python",
   "name": "python",
   "nbconvert_exporter": "python",
   "pygments_lexer": "ipython3",
   "version": "3.11.1"
  }
 },
 "nbformat": 4,
 "nbformat_minor": 5
}
