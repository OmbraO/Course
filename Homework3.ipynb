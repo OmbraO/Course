{
 "cells": [
  {
   "cell_type": "code",
   "execution_count": 35,
   "id": "7becb860-75d5-46e2-a7d6-bc15bcfff96a",
   "metadata": {},
   "outputs": [],
   "source": [
    "# You have given a Python list. Write a program to find value 20 in the list, and if it is present,\n",
    "# replace it with 200. Only update the first occurrence of an item.\n",
    "list1 = [5, 10, 15, 20, 25, 50, 20]"
   ]
  },
  {
   "cell_type": "code",
   "execution_count": 36,
   "id": "dd6a5faa-6728-4e74-a372-8cd56f7ea7a0",
   "metadata": {},
   "outputs": [
    {
     "data": {
      "text/plain": [
       "2"
      ]
     },
     "execution_count": 36,
     "metadata": {},
     "output_type": "execute_result"
    }
   ],
   "source": [
    "list1.count(20)"
   ]
  },
  {
   "cell_type": "code",
   "execution_count": 37,
   "id": "439d7723-7ca5-4b45-97b0-18cb9df5d004",
   "metadata": {},
   "outputs": [
    {
     "data": {
      "text/plain": [
       "[5, 10, 15, 200, 25, 50, 20]"
      ]
     },
     "execution_count": 37,
     "metadata": {},
     "output_type": "execute_result"
    }
   ],
   "source": [
    "list1[3] = 200\n",
    "list1"
   ]
  },
  {
   "cell_type": "code",
   "execution_count": null,
   "id": "0a2b4595-60df-4b72-bb2f-fe1bdd471b40",
   "metadata": {},
   "outputs": [],
   "source": []
  },
  {
   "cell_type": "code",
   "execution_count": 12,
   "id": "e52feca6-7a0c-443e-8c88-3cffdf459f59",
   "metadata": {
    "tags": []
   },
   "outputs": [],
   "source": [
    "# Swap first and last elements in the given list\n",
    "lst = ['first', 'a', 'b', 'c', 'd', 'last']\n"
   ]
  },
  {
   "cell_type": "code",
   "execution_count": 13,
   "id": "9f7171df-a100-4222-8d16-197f37072910",
   "metadata": {},
   "outputs": [],
   "source": [
    "lst.append(lst.pop(0)) \n",
    "lst.insert(0, lst.pop(-2)) "
   ]
  },
  {
   "cell_type": "code",
   "execution_count": 14,
   "id": "e1c85b26-71ab-460e-bc2a-7a6aa15b92ff",
   "metadata": {
    "tags": []
   },
   "outputs": [
    {
     "data": {
      "text/plain": [
       "['last', 'a', 'b', 'c', 'd', 'first']"
      ]
     },
     "execution_count": 14,
     "metadata": {},
     "output_type": "execute_result"
    }
   ],
   "source": [
    "lst"
   ]
  },
  {
   "cell_type": "code",
   "execution_count": null,
   "id": "ecccfd24-f515-4ab6-8c86-d7d78e330273",
   "metadata": {},
   "outputs": [],
   "source": []
  },
  {
   "cell_type": "code",
   "execution_count": 22,
   "id": "bc85422f-3c49-40f6-a020-ea77594f2f38",
   "metadata": {
    "tags": []
   },
   "outputs": [],
   "source": [
    "# Concatenate two lists to get the new one: ['Hello Dear', 'Hello Sir', 'take Dear', 'take Sir']\n",
    "list1 = [\"Hello \", \"take \"]\n",
    "list2 = [\"Dear\", \"Sir\"]"
   ]
  },
  {
   "cell_type": "code",
   "execution_count": 33,
   "id": "2e05a4a7-bdb3-456b-8d6f-eef97a84b8eb",
   "metadata": {},
   "outputs": [
    {
     "name": "stdout",
     "output_type": "stream",
     "text": [
      "Hello  Dear,\n",
      "Hello  Sir,\n",
      "take  Dear,\n",
      "take  Sir,\n"
     ]
    }
   ],
   "source": [
    "for list in list1:\n",
    "    for lists in list2:\n",
    "            print(f'{list} {lists},')"
   ]
  },
  {
   "cell_type": "code",
   "execution_count": null,
   "id": "01207c0b-f802-47b9-ab14-454c5169fdc4",
   "metadata": {},
   "outputs": [],
   "source": []
  },
  {
   "cell_type": "code",
   "execution_count": 4,
   "id": "1f1e0df1-8ce1-4bb6-a7f9-972342fef298",
   "metadata": {},
   "outputs": [],
   "source": [
    "# Using for loop calculate the factorial of 11.\n",
    "# Factorial of 11 (11!) is a product of 1 x 2 x 3 ... x 11"
   ]
  },
  {
   "cell_type": "code",
   "execution_count": 41,
   "id": "da5c6bb0-c561-4b9d-90b0-dd11af199e44",
   "metadata": {},
   "outputs": [
    {
     "name": "stdout",
     "output_type": "stream",
     "text": [
      "The factorial of 11 is 39916800\n"
     ]
    }
   ],
   "source": [
    "num = 11\n",
    "factorial = 1\n",
    "for i in range(1,num + 1):\n",
    "    factorial = factorial*i\n",
    "print(\"The factorial of\",num,\"is\",factorial)\n"
   ]
  },
  {
   "cell_type": "code",
   "execution_count": null,
   "id": "22ddc785-e201-42c3-9550-f9d790543f52",
   "metadata": {},
   "outputs": [],
   "source": []
  },
  {
   "cell_type": "code",
   "execution_count": 5,
   "id": "4e46a2ad-52fa-445c-8d3e-28a61f270c9a",
   "metadata": {},
   "outputs": [],
   "source": [
    "# You have a text. Write a program to return a list of words of this text cleared of any punctuation, and capitalized. \n",
    "# This list shouldn't contain any word starts with 'a' ignoring case.\n",
    "\n",
    "text = 'Lorem ipsum dolor sit amet, consectetur adipiscing elit. Nam consequat molestie sem, eu lacinia nisi hendrerit et. Maecenas risus ex, cursus ac tincidunt eu, porttitor ac diam. Morbi posuere laoreet ante, sed aliquam risus laoreet vel. Donec fringilla sollicitudin metus, quis finibus odio tincidunt quis. In a neque semper, sodales enim bibendum, sodales tellus. Sed eu efficitur metus. Vestibulum ante ipsum primis in faucibus orci luctus et ultrices posuere cubilia curae; Suspendisse placerat tincidunt lectus, id commodo lacus sollicitudin ut. Aliquam sed consectetur sem. Nullam euismod magna vitae augue tristique interdum ac id dui. Nam neque libero, lacinia ut purus.'"
   ]
  },
  {
   "cell_type": "code",
   "execution_count": null,
   "id": "4700f35c-cd02-4894-ad43-c43e1f744c3a",
   "metadata": {},
   "outputs": [],
   "source": []
  },
  {
   "cell_type": "code",
   "execution_count": null,
   "id": "9729f0b1-fd06-4db5-b4e0-acee1e08c30d",
   "metadata": {},
   "outputs": [],
   "source": []
  }
 ],
 "metadata": {
  "kernelspec": {
   "display_name": "Python 3 (ipykernel)",
   "language": "python",
   "name": "python3"
  },
  "language_info": {
   "codemirror_mode": {
    "name": "ipython",
    "version": 3
   },
   "file_extension": ".py",
   "mimetype": "text/x-python",
   "name": "python",
   "nbconvert_exporter": "python",
   "pygments_lexer": "ipython3",
   "version": "3.11.1"
  }
 },
 "nbformat": 4,
 "nbformat_minor": 5
}
