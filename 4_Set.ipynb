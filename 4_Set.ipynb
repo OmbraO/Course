{
 "cells": [
  {
   "cell_type": "markdown",
   "id": "9a4cbcc1-7556-4384-bb28-b57ccd4510ad",
   "metadata": {},
   "source": [
    "главная фишка сета, все дубликаты выкидываются. то есть все числа разные! признак сета {}\n"
   ]
  },
  {
   "cell_type": "code",
   "execution_count": 5,
   "id": "fab2915b-4f01-448f-9296-04d7e7dc702c",
   "metadata": {},
   "outputs": [],
   "source": [
    "empty_set = set()"
   ]
  },
  {
   "cell_type": "code",
   "execution_count": 6,
   "id": "14ab5b47-d5c6-43df-aa0f-682e0b763866",
   "metadata": {},
   "outputs": [
    {
     "data": {
      "text/plain": [
       "set()"
      ]
     },
     "execution_count": 6,
     "metadata": {},
     "output_type": "execute_result"
    }
   ],
   "source": [
    "empty_set"
   ]
  },
  {
   "cell_type": "code",
   "execution_count": 7,
   "id": "549b2fbc-672a-4547-9a4c-851c4c0f5ede",
   "metadata": {},
   "outputs": [
    {
     "data": {
      "text/plain": [
       "set"
      ]
     },
     "execution_count": 7,
     "metadata": {},
     "output_type": "execute_result"
    }
   ],
   "source": [
    "type(empty_set)"
   ]
  },
  {
   "cell_type": "code",
   "execution_count": 9,
   "id": "c958c8a4-c953-4ede-b1a2-7fb487047a79",
   "metadata": {},
   "outputs": [],
   "source": [
    "empty_set2 = {}"
   ]
  },
  {
   "cell_type": "code",
   "execution_count": 10,
   "id": "ef30067f-96ec-4c08-b600-b66b596b4a96",
   "metadata": {},
   "outputs": [
    {
     "data": {
      "text/plain": [
       "{}"
      ]
     },
     "execution_count": 10,
     "metadata": {},
     "output_type": "execute_result"
    }
   ],
   "source": [
    "empty_set2"
   ]
  },
  {
   "cell_type": "code",
   "execution_count": 11,
   "id": "0f4f55f9-251a-4cef-a205-0129d5247919",
   "metadata": {},
   "outputs": [
    {
     "data": {
      "text/plain": [
       "dict"
      ]
     },
     "execution_count": 11,
     "metadata": {},
     "output_type": "execute_result"
    }
   ],
   "source": [
    "type(empty_set2)"
   ]
  },
  {
   "cell_type": "code",
   "execution_count": 12,
   "id": "7f53ea1e-f7de-4391-808f-7e9167bdc7bc",
   "metadata": {},
   "outputs": [
    {
     "data": {
      "text/plain": [
       "{'a', 'd', 't'}"
      ]
     },
     "execution_count": 12,
     "metadata": {},
     "output_type": "execute_result"
    }
   ],
   "source": [
    "new_set = set('data')\n",
    "new_set"
   ]
  },
  {
   "cell_type": "code",
   "execution_count": 13,
   "id": "ef07f51f-f0bf-4f80-986b-af3f03e7b019",
   "metadata": {},
   "outputs": [
    {
     "data": {
      "text/plain": [
       "{2, 3, 4, 5}"
      ]
     },
     "execution_count": 13,
     "metadata": {},
     "output_type": "execute_result"
    }
   ],
   "source": [
    "set([2, 4, 5, 4, 3, 2])  # быстрый способ отбросить дубликаты"
   ]
  },
  {
   "cell_type": "code",
   "execution_count": 26,
   "id": "a01f2708-6e18-42be-b9ac-1c06ebfc1ce4",
   "metadata": {},
   "outputs": [],
   "source": [
    "set1 = {'Estonia', 'Lithuania', 'Latvia', 'Poland'}\n",
    "set2 = {'Sweden', 'Finland', 'Poland', 'Estonia'}"
   ]
  },
  {
   "cell_type": "code",
   "execution_count": 15,
   "id": "0700550f-74a6-4e7b-8dbc-fb39caa28914",
   "metadata": {},
   "outputs": [
    {
     "data": {
      "text/plain": [
       "{'Estonia', 'Latvia', 'Lithuania', 'Poland'}"
      ]
     },
     "execution_count": 15,
     "metadata": {},
     "output_type": "execute_result"
    }
   ],
   "source": [
    "set1"
   ]
  },
  {
   "cell_type": "code",
   "execution_count": 17,
   "id": "e35e7a36-878a-49d7-bc8d-8f8c2937883a",
   "metadata": {},
   "outputs": [
    {
     "data": {
      "text/plain": [
       "set"
      ]
     },
     "execution_count": 17,
     "metadata": {},
     "output_type": "execute_result"
    }
   ],
   "source": [
    "type(set1)  # какой тип данных проверяем, выдает, что это тип данных   сет!"
   ]
  },
  {
   "cell_type": "markdown",
   "id": "c4acf894-9ad5-407a-ad1a-3983f63ca7f7",
   "metadata": {},
   "source": [
    "**Set methods**"
   ]
  },
  {
   "cell_type": "code",
   "execution_count": 18,
   "id": "b67f84be-db9c-4cf1-8b71-8541d0ef955e",
   "metadata": {},
   "outputs": [],
   "source": [
    "set1.add('Denmark')"
   ]
  },
  {
   "cell_type": "code",
   "execution_count": 19,
   "id": "7adc3426-751d-4084-bbf0-bfc233828b6d",
   "metadata": {},
   "outputs": [
    {
     "data": {
      "text/plain": [
       "{'Denmark', 'Estonia', 'Latvia', 'Lithuania', 'Poland'}"
      ]
     },
     "execution_count": 19,
     "metadata": {},
     "output_type": "execute_result"
    }
   ],
   "source": [
    "set1"
   ]
  },
  {
   "cell_type": "code",
   "execution_count": 20,
   "id": "fdc6db74-7f05-4209-bb10-a4c1bb7d4836",
   "metadata": {},
   "outputs": [],
   "source": [
    "set1.add('Latvia')"
   ]
  },
  {
   "cell_type": "code",
   "execution_count": 21,
   "id": "916883c0-8366-434b-a568-7447afc1a04d",
   "metadata": {},
   "outputs": [
    {
     "data": {
      "text/plain": [
       "{'Denmark', 'Estonia', 'Latvia', 'Lithuania', 'Poland'}"
      ]
     },
     "execution_count": 21,
     "metadata": {},
     "output_type": "execute_result"
    }
   ],
   "source": [
    "set1"
   ]
  },
  {
   "cell_type": "code",
   "execution_count": 22,
   "id": "024f2723-e944-4734-afeb-8c00454c07a2",
   "metadata": {},
   "outputs": [
    {
     "name": "stdout",
     "output_type": "stream",
     "text": [
      "{'Denmark', 'Latvia', 'Lithuania', 'Estonia'}\n"
     ]
    }
   ],
   "source": [
    "set1.pop()\n",
    "print(set1)"
   ]
  },
  {
   "cell_type": "code",
   "execution_count": 24,
   "id": "c2eb7004-2aa5-48db-b4e0-49869dccecdb",
   "metadata": {},
   "outputs": [
    {
     "data": {
      "text/plain": [
       "'Denmark'"
      ]
     },
     "execution_count": 24,
     "metadata": {},
     "output_type": "execute_result"
    }
   ],
   "source": [
    "item = set1.pop()\n",
    "item"
   ]
  },
  {
   "cell_type": "code",
   "execution_count": 25,
   "id": "5bf861a3-b72e-45d5-8d93-886c8bbe9403",
   "metadata": {},
   "outputs": [
    {
     "data": {
      "text/plain": [
       "{'Estonia', 'Latvia', 'Lithuania'}"
      ]
     },
     "execution_count": 25,
     "metadata": {},
     "output_type": "execute_result"
    }
   ],
   "source": [
    "set1"
   ]
  },
  {
   "cell_type": "code",
   "execution_count": 27,
   "id": "1b603278-8f29-491c-8617-d649a7a03bbf",
   "metadata": {},
   "outputs": [
    {
     "data": {
      "text/plain": [
       "{'Estonia', 'Poland'}"
      ]
     },
     "execution_count": 27,
     "metadata": {},
     "output_type": "execute_result"
    }
   ],
   "source": [
    "set1.intersection(set2)  # получаем пересечение в 2 сетах, то есть одинаковые элементы!"
   ]
  },
  {
   "cell_type": "code",
   "execution_count": 28,
   "id": "37e7413d-cb1e-4a07-8f99-cbe6ec87fbb7",
   "metadata": {},
   "outputs": [],
   "source": [
    "set3 = {'Estonia'}"
   ]
  },
  {
   "cell_type": "code",
   "execution_count": 29,
   "id": "8465cde8-596b-4075-83cb-048c60f0b5c1",
   "metadata": {},
   "outputs": [
    {
     "data": {
      "text/plain": [
       "{'Estonia'}"
      ]
     },
     "execution_count": 29,
     "metadata": {},
     "output_type": "execute_result"
    }
   ],
   "source": [
    "set1.intersection(set2, set3)"
   ]
  },
  {
   "cell_type": "code",
   "execution_count": 31,
   "id": "41130911-8a32-449d-9371-0f780e8a029a",
   "metadata": {},
   "outputs": [
    {
     "name": "stdout",
     "output_type": "stream",
     "text": [
      "{'Lithuania', 'Poland', 'Latvia', 'Estonia'}\n",
      "{'Finland', 'Poland', 'Estonia', 'Sweden'}\n"
     ]
    }
   ],
   "source": [
    "print(set1)\n",
    "print(set2)"
   ]
  },
  {
   "cell_type": "code",
   "execution_count": 30,
   "id": "557d0963-f7cd-46e4-81ac-10956105e311",
   "metadata": {},
   "outputs": [
    {
     "data": {
      "text/plain": [
       "{'Latvia', 'Lithuania'}"
      ]
     },
     "execution_count": 30,
     "metadata": {},
     "output_type": "execute_result"
    }
   ],
   "source": [
    "set1.difference(set2) # разница в сетах 1 и 2!!"
   ]
  },
  {
   "cell_type": "code",
   "execution_count": 32,
   "id": "b0bc8053-1be3-443f-95e4-e214f92f2328",
   "metadata": {},
   "outputs": [
    {
     "data": {
      "text/plain": [
       "{'Finland', 'Sweden'}"
      ]
     },
     "execution_count": 32,
     "metadata": {},
     "output_type": "execute_result"
    }
   ],
   "source": [
    "set2.difference(set1)  # 2 элемента сета 1, которых нет в первом сете"
   ]
  },
  {
   "cell_type": "code",
   "execution_count": 33,
   "id": "fdeb2ed0-36c9-4be2-9336-dc0a625e9096",
   "metadata": {},
   "outputs": [
    {
     "data": {
      "text/plain": [
       "{'Estonia', 'Finland', 'Latvia', 'Lithuania', 'Poland', 'Sweden'}"
      ]
     },
     "execution_count": 33,
     "metadata": {},
     "output_type": "execute_result"
    }
   ],
   "source": [
    "set1.union(set2) # обьединям 2 сета, то есть все дубликаты уберутся"
   ]
  },
  {
   "cell_type": "raw",
   "id": "cb05ac14-0876-4fa0-9b96-92a1aef948c2",
   "metadata": {},
   "source": [
    "#interserction"
   ]
  },
  {
   "cell_type": "code",
   "execution_count": 35,
   "id": "c50b3b1d-ef80-4473-a3a8-2d2f62af2925",
   "metadata": {},
   "outputs": [
    {
     "data": {
      "text/plain": [
       "{'Estonia'}"
      ]
     },
     "execution_count": 35,
     "metadata": {},
     "output_type": "execute_result"
    }
   ],
   "source": [
    "set1 & set2 & set3"
   ]
  },
  {
   "cell_type": "code",
   "execution_count": 36,
   "id": "aa918917-d86d-4b4b-b164-1ff902b7802b",
   "metadata": {},
   "outputs": [
    {
     "data": {
      "text/plain": [
       "{'Latvia', 'Lithuania'}"
      ]
     },
     "execution_count": 36,
     "metadata": {},
     "output_type": "execute_result"
    }
   ],
   "source": [
    "set1 - set2"
   ]
  },
  {
   "cell_type": "code",
   "execution_count": 39,
   "id": "faed2f3e-18f2-4911-97ed-00a8660f2056",
   "metadata": {},
   "outputs": [
    {
     "ename": "SyntaxError",
     "evalue": "invalid syntax (3194227305.py, line 2)",
     "output_type": "error",
     "traceback": [
      "\u001b[1;36m  Cell \u001b[1;32mIn[39], line 2\u001b[1;36m\u001b[0m\n\u001b[1;33m    set1.update set2    неправильно!!!!! надо переделать\u001b[0m\n\u001b[1;37m                ^\u001b[0m\n\u001b[1;31mSyntaxError\u001b[0m\u001b[1;31m:\u001b[0m invalid syntax\n"
     ]
    }
   ],
   "source": [
    "# update\n",
    "set1.update set2    неправильно!!!!! надо переделать"
   ]
  },
  {
   "cell_type": "code",
   "execution_count": 38,
   "id": "3bc8af15-37d5-4d5e-9481-9d3413e0dff9",
   "metadata": {},
   "outputs": [
    {
     "data": {
      "text/plain": [
       "{'Estonia', 'Latvia', 'Lithuania', 'Poland'}"
      ]
     },
     "execution_count": 38,
     "metadata": {},
     "output_type": "execute_result"
    }
   ],
   "source": [
    "set1"
   ]
  },
  {
   "cell_type": "code",
   "execution_count": null,
   "id": "149bc7bf-70e7-4278-93aa-4ce18643c57d",
   "metadata": {},
   "outputs": [],
   "source": []
  },
  {
   "cell_type": "code",
   "execution_count": null,
   "id": "e57c004c-096b-4e69-94b4-8cfee04e963f",
   "metadata": {},
   "outputs": [],
   "source": []
  }
 ],
 "metadata": {
  "kernelspec": {
   "display_name": "Python 3 (ipykernel)",
   "language": "python",
   "name": "python3"
  },
  "language_info": {
   "codemirror_mode": {
    "name": "ipython",
    "version": 3
   },
   "file_extension": ".py",
   "mimetype": "text/x-python",
   "name": "python",
   "nbconvert_exporter": "python",
   "pygments_lexer": "ipython3",
   "version": "3.11.1"
  }
 },
 "nbformat": 4,
 "nbformat_minor": 5
}
