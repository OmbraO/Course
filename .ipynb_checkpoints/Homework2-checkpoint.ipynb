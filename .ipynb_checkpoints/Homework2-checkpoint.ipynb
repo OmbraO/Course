{
 "cells": [
  {
   "cell_type": "code",
   "execution_count": 1,
   "id": "ea6ed75e-14dd-4f53-899d-49720cbff4bd",
   "metadata": {},
   "outputs": [],
   "source": [
    "# Write a code to return \"Hero\" from given string\n",
    "example_string1 = \"Hello bro\""
   ]
  },
  {
   "cell_type": "code",
   "execution_count": 2,
   "id": "0137869e-d8ed-41c8-993b-93d95d197774",
   "metadata": {},
   "outputs": [],
   "source": [
    "# Write a code to return \"Jack is my name\"\n",
    "example_string2 = \"jack Is My NAME\""
   ]
  },
  {
   "cell_type": "code",
   "execution_count": 3,
   "id": "7001ef89-3be0-46d8-969f-9ad288f48379",
   "metadata": {},
   "outputs": [],
   "source": [
    "# Write a code to return \"Get rid of junk please\"\n",
    "example_string3 = \"%-*Get rid of *junk* please*-L%*\""
   ]
  },
  {
   "cell_type": "code",
   "execution_count": 4,
   "id": "1f8562cf-9121-41d3-84f9-8d794fee2c08",
   "metadata": {},
   "outputs": [],
   "source": [
    "# Write a code to return \"Hello my name is Jack\"\n",
    "example_string4 = \"hello my name is jack\""
   ]
  },
  {
   "cell_type": "code",
   "execution_count": 5,
   "id": "a1e27817-68c7-4596-aee4-9c9206fe4448",
   "metadata": {},
   "outputs": [],
   "source": [
    "# find all occurrences of “Estonia” in a given string ignoring the case.\n",
    "example_string5 = \"Welcome to estonia. Estonia is awesome, isn't it? I moved to ESTONIA 5 years ago.\""
   ]
  },
  {
   "cell_type": "code",
   "execution_count": 6,
   "id": "5c0c23b7-9005-4996-9180-4b11bd882bd4",
   "metadata": {},
   "outputs": [],
   "source": [
    "# Write a code to return formatted string \"Hello, my name is Jack\"\n",
    "var1 = \"jack\"\n",
    "var2 = \"hello\"\n",
    "var3 = \"MY NAME IS\""
   ]
  },
  {
   "cell_type": "code",
   "execution_count": 7,
   "id": "da5bb08f-6d9e-4e3b-b36c-f5c138d7136a",
   "metadata": {},
   "outputs": [],
   "source": [
    "# Write a code to return byte_string text value\n",
    "byte_string = b\"\\316\\273\""
   ]
  }
 ],
 "metadata": {
  "kernelspec": {
   "display_name": "Python 3 (ipykernel)",
   "language": "python",
   "name": "python3"
  },
  "language_info": {
   "codemirror_mode": {
    "name": "ipython",
    "version": 3
   },
   "file_extension": ".py",
   "mimetype": "text/x-python",
   "name": "python",
   "nbconvert_exporter": "python",
   "pygments_lexer": "ipython3",
   "version": "3.10.7"
  }
 },
 "nbformat": 4,
 "nbformat_minor": 5
}
