{
 "cells": [
  {
   "cell_type": "markdown",
   "id": "f72a4aeb-2823-4d3a-892a-04e8d83318e0",
   "metadata": {},
   "source": [
    "Написать программу которая: \n",
    "1. Высчитывает возраст из заданых данных (current_year - нынешний год, year_of_birth - год рождения)\n",
    "2. Найти недостающую часть кода (code_2)\n",
    "    + найдите остаток от x деленого на y\n",
    "    + полученый результ умножьте на 13\n",
    "    + извлеките квадратный корень из полученного результата (аналогично возведению в степень 0.5)\n",
    "    + возьмите целую часть от результата\n",
    "3. Соединить код в отдельную переменную\\\n",
    "    пример:\\\n",
    "    475-12-967\n",
    "4. Вывести строку используя доступные переменные:\\\n",
    "    пример:\\\n",
    "    Hello Mary Gold. You are 26 years old. Your secret code is 475-12-967."
   ]
  },
  {
   "cell_type": "markdown",
   "id": "f26424fa-8b32-4611-8bc4-a2b8db026a1f",
   "metadata": {
    "tags": []
   },
   "source": [
    "# 1 Расчет возраста"
   ]
  },
  {
   "cell_type": "code",
   "execution_count": 17,
   "id": "c82683eb-c4a8-46c6-a3f9-ea572a14f00b",
   "metadata": {},
   "outputs": [],
   "source": [
    "# years\n",
    "current_year = 2022\n",
    "year_of_birth = 1988"
   ]
  },
  {
   "cell_type": "code",
   "execution_count": 18,
   "id": "37d8e44f-4574-44da-a0ec-060ffd2a587e",
   "metadata": {},
   "outputs": [
    {
     "name": "stdout",
     "output_type": "stream",
     "text": [
      "Ваш возраст\n",
      "34\n"
     ]
    }
   ],
   "source": [
    "user_age = current_year - year_of_birth\n",
    "print('Ваш' + ' возраст')\n",
    "print(user_age)"
   ]
  },
  {
   "cell_type": "code",
   "execution_count": 19,
   "id": "9e40832d-6319-4dfe-aaf6-0d8e7b733269",
   "metadata": {},
   "outputs": [],
   "source": [
    "# code parts\n",
    "code_1 = '354'\n",
    "code_3 = 132"
   ]
  },
  {
   "cell_type": "code",
   "execution_count": 20,
   "id": "e02c0f26-29be-4af8-b499-90717f67cdb0",
   "metadata": {},
   "outputs": [],
   "source": [
    "# name\n",
    "user_name = 'John'\n",
    "user_surname = 'Smith'"
   ]
  },
  {
   "cell_type": "markdown",
   "id": "911b98f4-32f7-4392-80ce-bc935e4131cd",
   "metadata": {},
   "source": [
    "# 2 Недостающая часть кода"
   ]
  },
  {
   "cell_type": "code",
   "execution_count": 21,
   "id": "3503daad-5422-4e8d-93f4-284326d34354",
   "metadata": {},
   "outputs": [],
   "source": [
    "# code 2 data\n",
    "x = 152\n",
    "y = 132"
   ]
  },
  {
   "cell_type": "code",
   "execution_count": 22,
   "id": "d4ac58ad-f708-4a7b-b2b8-b9eb77a04031",
   "metadata": {},
   "outputs": [],
   "source": [
    "a = x % y"
   ]
  },
  {
   "cell_type": "code",
   "execution_count": 23,
   "id": "5719b35b-746d-415a-9039-bfcbf1a6f2ff",
   "metadata": {},
   "outputs": [
    {
     "name": "stdout",
     "output_type": "stream",
     "text": [
      "20\n"
     ]
    }
   ],
   "source": [
    "print(a)"
   ]
  },
  {
   "cell_type": "code",
   "execution_count": 24,
   "id": "9dbb90e3-342e-4051-be59-7c6b30d0a1d7",
   "metadata": {},
   "outputs": [
    {
     "name": "stdout",
     "output_type": "stream",
     "text": [
      "260\n"
     ]
    }
   ],
   "source": [
    "b = a * 13\n",
    "print(b)"
   ]
  },
  {
   "cell_type": "code",
   "execution_count": 76,
   "id": "37a27fa2-e355-461f-a58a-8ecbd1331ab4",
   "metadata": {},
   "outputs": [
    {
     "name": "stdout",
     "output_type": "stream",
     "text": [
      "16.1245154965971\n"
     ]
    }
   ],
   "source": [
    "c = b**0.5\n",
    "print(c)"
   ]
  },
  {
   "cell_type": "code",
   "execution_count": 78,
   "id": "43ea5a74-28fc-4466-a866-85d60c966da6",
   "metadata": {},
   "outputs": [
    {
     "name": "stdout",
     "output_type": "stream",
     "text": [
      "16.0\n"
     ]
    }
   ],
   "source": [
    "print(16.1245154965971 // 1)"
   ]
  },
  {
   "cell_type": "code",
   "execution_count": 68,
   "id": "bf3991c7-9b68-4d48-8c54-1453f27ba2f7",
   "metadata": {},
   "outputs": [],
   "source": [
    "code_3 = str(code_3)\n"
   ]
  },
  {
   "cell_type": "markdown",
   "id": "fdb720c5-43ac-457e-afa2-fc547dff261f",
   "metadata": {},
   "source": [
    "# 4"
   ]
  },
  {
   "cell_type": "code",
   "execution_count": 75,
   "id": "7198a3cd-56b6-4e78-984f-ba140dd07202",
   "metadata": {},
   "outputs": [
    {
     "name": "stdout",
     "output_type": "stream",
     "text": [
      "Hello John Smith . You are 34 years old .  Your secret code is 132 - 354 .\n"
     ]
    }
   ],
   "source": [
    "print('Hello', user_name, user_surname, '.', 'You are', user_age, 'years old', '.', ' Your secret code is', code_3, '-', code_1,'.')"
   ]
  }
 ],
 "metadata": {
  "kernelspec": {
   "display_name": "Python 3 (ipykernel)",
   "language": "python",
   "name": "python3"
  },
  "language_info": {
   "codemirror_mode": {
    "name": "ipython",
    "version": 3
   },
   "file_extension": ".py",
   "mimetype": "text/x-python",
   "name": "python",
   "nbconvert_exporter": "python",
   "pygments_lexer": "ipython3",
   "version": "3.11.1"
  },
  "toc-autonumbering": true,
  "toc-showmarkdowntxt": true,
  "toc-showtags": false
 },
 "nbformat": 4,
 "nbformat_minor": 5
}
