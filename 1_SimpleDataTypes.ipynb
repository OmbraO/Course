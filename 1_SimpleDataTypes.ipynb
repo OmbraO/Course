{
 "cells": [
  {
   "cell_type": "markdown",
   "id": "6cd32df2-6f30-4f83-9b55-70a7f4aecf25",
   "metadata": {},
   "source": [
    "# 1. Data Types"
   ]
  },
  {
   "cell_type": "markdown",
   "id": "c4783d86-da5e-4bf9-8a13-e6ff2ffbbbf3",
   "metadata": {},
   "source": [
    "1. Data types"
   ]
  },
  {
   "cell_type": "code",
   "execution_count": 3,
   "id": "86df3519-05a2-49e7-93a7-de14dcfd5593",
   "metadata": {},
   "outputs": [
    {
     "name": "stdout",
     "output_type": "stream",
     "text": [
      "100\n",
      "<class 'int'>\n"
     ]
    }
   ],
   "source": [
    "var_int = 100\n",
    "print(var_int)\n",
    "print(type(var_int))"
   ]
  },
  {
   "cell_type": "markdown",
   "id": "fc9521da-8453-46a7-888d-ed3e37d8f935",
   "metadata": {},
   "source": [
    "# 2. Float"
   ]
  },
  {
   "cell_type": "code",
   "execution_count": 4,
   "id": "25cadb94-4462-4acc-bf96-545236c9ebce",
   "metadata": {},
   "outputs": [],
   "source": [
    "var_float = 100.567"
   ]
  },
  {
   "cell_type": "code",
   "execution_count": 5,
   "id": "324ce828-d076-4124-b4de-a68b4226d3ed",
   "metadata": {},
   "outputs": [
    {
     "data": {
      "text/plain": [
       "100.567"
      ]
     },
     "execution_count": 5,
     "metadata": {},
     "output_type": "execute_result"
    }
   ],
   "source": [
    "var_float"
   ]
  },
  {
   "cell_type": "code",
   "execution_count": 6,
   "id": "5a1e7895-afd6-4770-a792-ca390dc73e2d",
   "metadata": {},
   "outputs": [
    {
     "name": "stdout",
     "output_type": "stream",
     "text": [
      "100\n",
      "100.567\n"
     ]
    }
   ],
   "source": [
    "print(var_int)\n",
    "print(var_float)"
   ]
  },
  {
   "cell_type": "markdown",
   "id": "607d67f2-1685-45f3-aec3-e0baef267f11",
   "metadata": {
    "tags": []
   },
   "source": [
    "3. Complex"
   ]
  },
  {
   "cell_type": "code",
   "execution_count": 8,
   "id": "e29630bb-80e6-4330-b5d9-474657535ff9",
   "metadata": {},
   "outputs": [],
   "source": [
    "var_complex = 100j"
   ]
  },
  {
   "cell_type": "code",
   "execution_count": 9,
   "id": "de6d31f3-d110-4162-82c7-84e7def31210",
   "metadata": {},
   "outputs": [
    {
     "data": {
      "text/plain": [
       "100j"
      ]
     },
     "execution_count": 9,
     "metadata": {},
     "output_type": "execute_result"
    }
   ],
   "source": [
    "var_complex"
   ]
  },
  {
   "cell_type": "markdown",
   "id": "30a30011-c352-4f44-9806-67e59ddc9643",
   "metadata": {},
   "source": [
    "4. String"
   ]
  },
  {
   "cell_type": "code",
   "execution_count": 10,
   "id": "52a12c0f-c46f-4c62-8d33-0e430e349a7a",
   "metadata": {},
   "outputs": [
    {
     "name": "stdout",
     "output_type": "stream",
     "text": [
      "hundred\n"
     ]
    }
   ],
   "source": [
    "var_string = 'hundred'\n",
    "print(var_string)"
   ]
  },
  {
   "cell_type": "code",
   "execution_count": 11,
   "id": "daa966b2-b3ae-4819-8f32-00134e37225a",
   "metadata": {},
   "outputs": [
    {
     "data": {
      "text/plain": [
       "'hundred'"
      ]
     },
     "execution_count": 11,
     "metadata": {},
     "output_type": "execute_result"
    }
   ],
   "source": [
    "var_string"
   ]
  },
  {
   "cell_type": "code",
   "execution_count": 12,
   "id": "d3283463-e40b-4e98-9181-42c40978f83b",
   "metadata": {},
   "outputs": [
    {
     "data": {
      "text/plain": [
       "'var_string'"
      ]
     },
     "execution_count": 12,
     "metadata": {},
     "output_type": "execute_result"
    }
   ],
   "source": [
    "'var_string'"
   ]
  },
  {
   "cell_type": "code",
   "execution_count": 14,
   "id": "7c522833-d418-467d-9cd8-da7e0fb61940",
   "metadata": {},
   "outputs": [
    {
     "data": {
      "text/plain": [
       "\"'Hello\""
      ]
     },
     "execution_count": 14,
     "metadata": {},
     "output_type": "execute_result"
    }
   ],
   "source": [
    "''''Hello'''"
   ]
  },
  {
   "cell_type": "code",
   "execution_count": 15,
   "id": "e766006a-1ea5-4abe-b392-762d7e1212f8",
   "metadata": {},
   "outputs": [],
   "source": [
    "var_string_int = '100'"
   ]
  },
  {
   "cell_type": "code",
   "execution_count": 16,
   "id": "ebb0316d-8b3b-4a90-9f56-a92329213ec7",
   "metadata": {},
   "outputs": [
    {
     "data": {
      "text/plain": [
       "str"
      ]
     },
     "execution_count": 16,
     "metadata": {},
     "output_type": "execute_result"
    }
   ],
   "source": [
    "type(var_string_int)"
   ]
  },
  {
   "cell_type": "markdown",
   "id": "b30d6fc0-4b80-45dd-a333-6e8e9c4d68dc",
   "metadata": {},
   "source": [
    "5. None type"
   ]
  },
  {
   "cell_type": "code",
   "execution_count": 17,
   "id": "19f6e336-9720-4bb8-b120-14a76e5101f3",
   "metadata": {},
   "outputs": [],
   "source": [
    "var_none = None"
   ]
  },
  {
   "cell_type": "code",
   "execution_count": 18,
   "id": "c85bfdf6-5093-4cbe-af65-5663f23ae173",
   "metadata": {},
   "outputs": [
    {
     "ename": "SyntaxError",
     "evalue": "invalid syntax (4046336097.py, line 1)",
     "output_type": "error",
     "traceback": [
      "\u001b[1;36m  Cell \u001b[1;32mIn[18], line 1\u001b[1;36m\u001b[0m\n\u001b[1;33m    var_nothing =\u001b[0m\n\u001b[1;37m                  ^\u001b[0m\n\u001b[1;31mSyntaxError\u001b[0m\u001b[1;31m:\u001b[0m invalid syntax\n"
     ]
    }
   ],
   "source": [
    "var_nothing = "
   ]
  },
  {
   "cell_type": "markdown",
   "id": "385ceee0-dcac-4c8c-8bef-d00b6b2fc6fd",
   "metadata": {},
   "source": [
    "6. Boolean"
   ]
  },
  {
   "cell_type": "code",
   "execution_count": 22,
   "id": "fa23db1c-9e47-4662-b824-5f8230f9f932",
   "metadata": {},
   "outputs": [],
   "source": [
    "var_bool = True"
   ]
  },
  {
   "cell_type": "code",
   "execution_count": 23,
   "id": "feaf9bce-a98d-4e12-9a50-62d69b73a9b0",
   "metadata": {},
   "outputs": [
    {
     "data": {
      "text/plain": [
       "False"
      ]
     },
     "execution_count": 23,
     "metadata": {},
     "output_type": "execute_result"
    }
   ],
   "source": [
    "False"
   ]
  },
  {
   "cell_type": "markdown",
   "id": "da1a6271-19e6-4c4a-81ee-fc84ff19f5f5",
   "metadata": {},
   "source": [
    "False values:"
   ]
  },
  {
   "cell_type": "code",
   "execution_count": 24,
   "id": "1a768edf-7090-48e3-8adb-9970d8cd2899",
   "metadata": {},
   "outputs": [
    {
     "data": {
      "text/plain": [
       "False"
      ]
     },
     "execution_count": 24,
     "metadata": {},
     "output_type": "execute_result"
    }
   ],
   "source": [
    "bool(0)"
   ]
  },
  {
   "cell_type": "code",
   "execution_count": 25,
   "id": "b98d0411-b376-4846-a3ba-94c81e3af476",
   "metadata": {},
   "outputs": [
    {
     "data": {
      "text/plain": [
       "False"
      ]
     },
     "execution_count": 25,
     "metadata": {},
     "output_type": "execute_result"
    }
   ],
   "source": [
    "bool('')"
   ]
  },
  {
   "cell_type": "code",
   "execution_count": 26,
   "id": "6a73f8de-3884-49b3-ae15-baca467c0ec0",
   "metadata": {},
   "outputs": [
    {
     "data": {
      "text/plain": [
       "True"
      ]
     },
     "execution_count": 26,
     "metadata": {},
     "output_type": "execute_result"
    }
   ],
   "source": [
    "bool(' ')"
   ]
  },
  {
   "cell_type": "code",
   "execution_count": 27,
   "id": "836b7673-0773-4d02-a98b-710e4dbba11f",
   "metadata": {},
   "outputs": [
    {
     "data": {
      "text/plain": [
       "False"
      ]
     },
     "execution_count": 27,
     "metadata": {},
     "output_type": "execute_result"
    }
   ],
   "source": [
    "bool(None)"
   ]
  },
  {
   "cell_type": "code",
   "execution_count": 28,
   "id": "8d07b4ab-6e97-41ee-a3ef-a44f19e642c9",
   "metadata": {},
   "outputs": [
    {
     "data": {
      "text/plain": [
       "False"
      ]
     },
     "execution_count": 28,
     "metadata": {},
     "output_type": "execute_result"
    }
   ],
   "source": [
    "bool([])"
   ]
  },
  {
   "cell_type": "code",
   "execution_count": 29,
   "id": "9f34f81b-2bb6-44e4-91cf-e3beabb6c370",
   "metadata": {},
   "outputs": [
    {
     "data": {
      "text/plain": [
       "False"
      ]
     },
     "execution_count": 29,
     "metadata": {},
     "output_type": "execute_result"
    }
   ],
   "source": [
    "bool(False)"
   ]
  },
  {
   "cell_type": "code",
   "execution_count": 30,
   "id": "63d236b2-867b-4863-b24f-9fb0331d5340",
   "metadata": {},
   "outputs": [
    {
     "data": {
      "text/plain": [
       "True"
      ]
     },
     "execution_count": 30,
     "metadata": {},
     "output_type": "execute_result"
    }
   ],
   "source": [
    "bool(var_int)"
   ]
  },
  {
   "cell_type": "code",
   "execution_count": 31,
   "id": "96f68b81-ad04-41f4-8796-e0e6831da663",
   "metadata": {},
   "outputs": [
    {
     "data": {
      "text/plain": [
       "True"
      ]
     },
     "execution_count": 31,
     "metadata": {},
     "output_type": "execute_result"
    }
   ],
   "source": [
    "bool('Hello')"
   ]
  },
  {
   "cell_type": "code",
   "execution_count": 32,
   "id": "a8bad648-8931-4f88-83a3-578f668e6e95",
   "metadata": {
    "tags": []
   },
   "outputs": [
    {
     "data": {
      "text/plain": [
       "True"
      ]
     },
     "execution_count": 32,
     "metadata": {},
     "output_type": "execute_result"
    }
   ],
   "source": [
    "bool('False')"
   ]
  },
  {
   "cell_type": "code",
   "execution_count": 33,
   "id": "5481e3eb-78cb-49c6-b5c0-1eb799608605",
   "metadata": {},
   "outputs": [
    {
     "data": {
      "text/plain": [
       "True"
      ]
     },
     "execution_count": 33,
     "metadata": {},
     "output_type": "execute_result"
    }
   ],
   "source": [
    "bool('0')"
   ]
  },
  {
   "cell_type": "code",
   "execution_count": 34,
   "id": "674cb743-ef18-4aff-80a8-f78a4651a7e5",
   "metadata": {},
   "outputs": [
    {
     "data": {
      "text/plain": [
       "False"
      ]
     },
     "execution_count": 34,
     "metadata": {},
     "output_type": "execute_result"
    }
   ],
   "source": [
    "bool(0)"
   ]
  },
  {
   "cell_type": "markdown",
   "id": "d5d3388c-5691-4142-8586-30e64c201593",
   "metadata": {},
   "source": [
    "2. Variables"
   ]
  },
  {
   "cell_type": "code",
   "execution_count": 35,
   "id": "effd2cde-2760-4383-bd6f-90949f600567",
   "metadata": {},
   "outputs": [],
   "source": [
    "myvar = 123"
   ]
  },
  {
   "cell_type": "code",
   "execution_count": 37,
   "id": "a40a2673-5960-4e38-aadd-7a2eb4c9f4ee",
   "metadata": {},
   "outputs": [],
   "source": [
    "my_var = 'Hi'"
   ]
  },
  {
   "cell_type": "code",
   "execution_count": null,
   "id": "d08dff54-3a37-4eae-b086-38bd9b970d6f",
   "metadata": {},
   "outputs": [],
   "source": [
    "_my_var_ = 0 "
   ]
  },
  {
   "cell_type": "code",
   "execution_count": 38,
   "id": "71fecdc8-246d-4223-9a25-f87e5bcfa68f",
   "metadata": {
    "tags": []
   },
   "outputs": [],
   "source": [
    "myVar = None"
   ]
  },
  {
   "cell_type": "code",
   "execution_count": 39,
   "id": "faab2e53-f8b8-4bf7-92e9-7035b5a4b2a6",
   "metadata": {},
   "outputs": [],
   "source": [
    "MYVAR = True"
   ]
  },
  {
   "cell_type": "code",
   "execution_count": 40,
   "id": "fde7dee4-1b49-409d-95f7-2adb1eb65b08",
   "metadata": {},
   "outputs": [],
   "source": [
    "my1var2 = 10000"
   ]
  },
  {
   "cell_type": "markdown",
   "id": "0bba8f0b-bfe6-4a7c-95a6-e9efb09bc39f",
   "metadata": {},
   "source": [
    "Illigal"
   ]
  },
  {
   "cell_type": "code",
   "execution_count": 41,
   "id": "67e66d0c-3bb7-4900-9881-4ab4db6455b3",
   "metadata": {},
   "outputs": [
    {
     "ename": "SyntaxError",
     "evalue": "invalid decimal literal (1256312440.py, line 1)",
     "output_type": "error",
     "traceback": [
      "\u001b[1;36m  Cell \u001b[1;32mIn[41], line 1\u001b[1;36m\u001b[0m\n\u001b[1;33m    1myvar = 0\u001b[0m\n\u001b[1;37m    ^\u001b[0m\n\u001b[1;31mSyntaxError\u001b[0m\u001b[1;31m:\u001b[0m invalid decimal literal\n"
     ]
    }
   ],
   "source": [
    "1myvar = 0"
   ]
  },
  {
   "cell_type": "code",
   "execution_count": 42,
   "id": "02bb79cc-5622-4eae-b3d8-12fe75c041be",
   "metadata": {},
   "outputs": [
    {
     "ename": "SyntaxError",
     "evalue": "cannot assign to expression here. Maybe you meant '==' instead of '='? (1166137144.py, line 1)",
     "output_type": "error",
     "traceback": [
      "\u001b[1;36m  Cell \u001b[1;32mIn[42], line 1\u001b[1;36m\u001b[0m\n\u001b[1;33m    my-var = '123'\u001b[0m\n\u001b[1;37m    ^\u001b[0m\n\u001b[1;31mSyntaxError\u001b[0m\u001b[1;31m:\u001b[0m cannot assign to expression here. Maybe you meant '==' instead of '='?\n"
     ]
    }
   ],
   "source": [
    "my-var = '123'"
   ]
  },
  {
   "cell_type": "code",
   "execution_count": 43,
   "id": "fe3fca5a-72cc-4450-a227-fa94803b53a0",
   "metadata": {},
   "outputs": [
    {
     "ename": "SyntaxError",
     "evalue": "invalid syntax (3501099757.py, line 1)",
     "output_type": "error",
     "traceback": [
      "\u001b[1;36m  Cell \u001b[1;32mIn[43], line 1\u001b[1;36m\u001b[0m\n\u001b[1;33m    my var = '123'\u001b[0m\n\u001b[1;37m       ^\u001b[0m\n\u001b[1;31mSyntaxError\u001b[0m\u001b[1;31m:\u001b[0m invalid syntax\n"
     ]
    }
   ],
   "source": [
    "my var = '123'"
   ]
  },
  {
   "cell_type": "code",
   "execution_count": 44,
   "id": "44692f86-75a7-4d80-8215-5bb825c1226f",
   "metadata": {},
   "outputs": [
    {
     "ename": "SyntaxError",
     "evalue": "cannot assign to expression here. Maybe you meant '==' instead of '='? (1166137144.py, line 1)",
     "output_type": "error",
     "traceback": [
      "\u001b[1;36m  Cell \u001b[1;32mIn[44], line 1\u001b[1;36m\u001b[0m\n\u001b[1;33m    my-var = '123'\u001b[0m\n\u001b[1;37m    ^\u001b[0m\n\u001b[1;31mSyntaxError\u001b[0m\u001b[1;31m:\u001b[0m cannot assign to expression here. Maybe you meant '==' instead of '='?\n"
     ]
    }
   ],
   "source": [
    "my-var = '123'"
   ]
  },
  {
   "cell_type": "markdown",
   "id": "c12a4cbd-b6e9-4e73-a312-63d1c26b3e9c",
   "metadata": {},
   "source": [
    "# 3. Arithmetic operators"
   ]
  },
  {
   "cell_type": "code",
   "execution_count": 45,
   "id": "eb9c009e-9fe1-42c0-ba75-f3380c05f68a",
   "metadata": {},
   "outputs": [
    {
     "data": {
      "text/plain": [
       "600"
      ]
     },
     "execution_count": 45,
     "metadata": {},
     "output_type": "execute_result"
    }
   ],
   "source": [
    "100 + 500"
   ]
  },
  {
   "cell_type": "code",
   "execution_count": 46,
   "id": "f6ebd877-99a0-4eb5-a39b-30b06e0ae7ee",
   "metadata": {},
   "outputs": [
    {
     "data": {
      "text/plain": [
       "200.567"
      ]
     },
     "execution_count": 46,
     "metadata": {},
     "output_type": "execute_result"
    }
   ],
   "source": [
    "var_int + var_float"
   ]
  },
  {
   "cell_type": "code",
   "execution_count": 47,
   "id": "36fce98f-056f-49db-9d6c-89fdc4283a0a",
   "metadata": {},
   "outputs": [
    {
     "data": {
      "text/plain": [
       "(200.567+100j)"
      ]
     },
     "execution_count": 47,
     "metadata": {},
     "output_type": "execute_result"
    }
   ],
   "source": [
    "var_int + var_float + var_complex"
   ]
  },
  {
   "cell_type": "code",
   "execution_count": 48,
   "id": "72ad6600-0f7b-4fc2-8e86-8669085ca8f5",
   "metadata": {},
   "outputs": [
    {
     "ename": "TypeError",
     "evalue": "unsupported operand type(s) for +: 'int' and 'str'",
     "output_type": "error",
     "traceback": [
      "\u001b[1;31m---------------------------------------------------------------------------\u001b[0m",
      "\u001b[1;31mTypeError\u001b[0m                                 Traceback (most recent call last)",
      "Cell \u001b[1;32mIn[48], line 1\u001b[0m\n\u001b[1;32m----> 1\u001b[0m \u001b[43mvar_int\u001b[49m\u001b[43m \u001b[49m\u001b[38;5;241;43m+\u001b[39;49m\u001b[43m \u001b[49m\u001b[43mvar_string_int\u001b[49m\n",
      "\u001b[1;31mTypeError\u001b[0m: unsupported operand type(s) for +: 'int' and 'str'"
     ]
    }
   ],
   "source": [
    "var_int + var_string_int"
   ]
  },
  {
   "cell_type": "raw",
   "id": "6eab902c-d688-4949-ba5a-bb8b0bbb30cf",
   "metadata": {},
   "source": [
    "100 - 50"
   ]
  },
  {
   "cell_type": "markdown",
   "id": "b6b16c95-c594-4a5d-a8bb-e6d267d59597",
   "metadata": {
    "tags": []
   },
   "source": [
    "Возведение в степень"
   ]
  },
  {
   "cell_type": "code",
   "execution_count": 49,
   "id": "fc8df74a-e35e-4a66-bf56-0652c98f5d7c",
   "metadata": {},
   "outputs": [
    {
     "data": {
      "text/plain": [
       "9"
      ]
     },
     "execution_count": 49,
     "metadata": {},
     "output_type": "execute_result"
    }
   ],
   "source": [
    "3**2"
   ]
  },
  {
   "cell_type": "code",
   "execution_count": 50,
   "id": "e98aba94-f6a2-4a28-aaa8-98efadc82ca5",
   "metadata": {},
   "outputs": [
    {
     "data": {
      "text/plain": [
       "(1, 5)"
      ]
     },
     "execution_count": 50,
     "metadata": {},
     "output_type": "execute_result"
    }
   ],
   "source": [
    "9**0,5"
   ]
  },
  {
   "cell_type": "code",
   "execution_count": 51,
   "id": "8e7887c7-880c-4dc3-914d-055374cba4a5",
   "metadata": {},
   "outputs": [
    {
     "data": {
      "text/plain": [
       "3.0"
      ]
     },
     "execution_count": 51,
     "metadata": {},
     "output_type": "execute_result"
    }
   ],
   "source": [
    "9 / 3"
   ]
  },
  {
   "cell_type": "code",
   "execution_count": 52,
   "id": "f6a30615-b644-4112-a1cc-6520fb4e074d",
   "metadata": {},
   "outputs": [
    {
     "data": {
      "text/plain": [
       "1.8"
      ]
     },
     "execution_count": 52,
     "metadata": {},
     "output_type": "execute_result"
    }
   ],
   "source": [
    "9 / 5"
   ]
  },
  {
   "cell_type": "markdown",
   "id": "bc896df4-1134-46f9-b276-2a22beb166ec",
   "metadata": {},
   "source": [
    "Остаток от деления"
   ]
  },
  {
   "cell_type": "code",
   "execution_count": 53,
   "id": "be6b3054-946b-428f-8758-e999932e049c",
   "metadata": {},
   "outputs": [
    {
     "data": {
      "text/plain": [
       "2"
      ]
     },
     "execution_count": 53,
     "metadata": {},
     "output_type": "execute_result"
    }
   ],
   "source": [
    "10 % 4"
   ]
  },
  {
   "cell_type": "markdown",
   "id": "d3e93e1b-972e-4580-8a38-d2622b86da59",
   "metadata": {},
   "source": [
    "Обратный оператор, целочисленное деление"
   ]
  },
  {
   "cell_type": "code",
   "execution_count": 54,
   "id": "f9a502be-3968-43f7-8ed2-7dc1c4f6c65d",
   "metadata": {},
   "outputs": [
    {
     "data": {
      "text/plain": [
       "2"
      ]
     },
     "execution_count": 54,
     "metadata": {},
     "output_type": "execute_result"
    }
   ],
   "source": [
    "10 // 4"
   ]
  },
  {
   "cell_type": "code",
   "execution_count": 55,
   "id": "d4ea5094-4252-4802-92bc-256d1108998c",
   "metadata": {},
   "outputs": [
    {
     "data": {
      "text/plain": [
       "2"
      ]
     },
     "execution_count": 55,
     "metadata": {},
     "output_type": "execute_result"
    }
   ],
   "source": [
    "11 // 4"
   ]
  },
  {
   "cell_type": "code",
   "execution_count": 56,
   "id": "e15ad41c-c5aa-45a4-b31e-239d69da0dad",
   "metadata": {},
   "outputs": [
    {
     "data": {
      "text/plain": [
       "3"
      ]
     },
     "execution_count": 56,
     "metadata": {},
     "output_type": "execute_result"
    }
   ],
   "source": [
    "12 // 4"
   ]
  },
  {
   "cell_type": "markdown",
   "id": "f0db4bd3-13b5-45e7-98d1-fea7f4044371",
   "metadata": {},
   "source": [
    "Округление"
   ]
  },
  {
   "cell_type": "code",
   "execution_count": 57,
   "id": "09be4fde-9fd6-4c24-8f13-df10560ca9ed",
   "metadata": {},
   "outputs": [
    {
     "data": {
      "text/plain": [
       "124"
      ]
     },
     "execution_count": 57,
     "metadata": {},
     "output_type": "execute_result"
    }
   ],
   "source": [
    "round(123.567)"
   ]
  },
  {
   "cell_type": "code",
   "execution_count": 58,
   "id": "b0e5d662-8b29-4257-bba1-730b26570de0",
   "metadata": {},
   "outputs": [
    {
     "data": {
      "text/plain": [
       "0"
      ]
     },
     "execution_count": 58,
     "metadata": {},
     "output_type": "execute_result"
    }
   ],
   "source": [
    "round(0.5)"
   ]
  },
  {
   "cell_type": "code",
   "execution_count": 59,
   "id": "11ee8a79-6abe-4522-9adc-4a487d0d560c",
   "metadata": {},
   "outputs": [
    {
     "data": {
      "text/plain": [
       "2"
      ]
     },
     "execution_count": 59,
     "metadata": {},
     "output_type": "execute_result"
    }
   ],
   "source": [
    "round(2.5)"
   ]
  },
  {
   "cell_type": "code",
   "execution_count": 60,
   "id": "856375ab-abb4-4ce6-bc9f-a6d696ddcce3",
   "metadata": {},
   "outputs": [
    {
     "data": {
      "text/plain": [
       "4"
      ]
     },
     "execution_count": 60,
     "metadata": {},
     "output_type": "execute_result"
    }
   ],
   "source": [
    "round(3.5)"
   ]
  },
  {
   "cell_type": "markdown",
   "id": "d08c26e6-83a4-4f60-8074-222acfcf5a63",
   "metadata": {},
   "source": [
    "Если есть 0,5, то округляет до ближайшего четного числа."
   ]
  },
  {
   "cell_type": "code",
   "execution_count": null,
   "id": "22c8f46f-81ea-4a89-b844-218121210a9c",
   "metadata": {},
   "outputs": [],
   "source": []
  },
  {
   "cell_type": "code",
   "execution_count": 63,
   "id": "b2f42bcb-6ab0-4028-89e7-50b0198efa86",
   "metadata": {},
   "outputs": [
    {
     "data": {
      "text/plain": [
       "0.30000000000000004"
      ]
     },
     "execution_count": 63,
     "metadata": {},
     "output_type": "execute_result"
    }
   ],
   "source": [
    "0.1 + 0.1 + 0.1"
   ]
  },
  {
   "cell_type": "markdown",
   "id": "fa677dbe-1556-4536-a562-cf30324c8a25",
   "metadata": {},
   "source": [
    "Assigment operators"
   ]
  },
  {
   "cell_type": "code",
   "execution_count": 64,
   "id": "5a4dbcd0-e389-412c-a4b9-1d9c84a53753",
   "metadata": {},
   "outputs": [],
   "source": [
    "x = 5"
   ]
  },
  {
   "cell_type": "code",
   "execution_count": 65,
   "id": "34e0357d-2cdd-40f1-87a8-1e45d7013c53",
   "metadata": {},
   "outputs": [
    {
     "data": {
      "text/plain": [
       "5"
      ]
     },
     "execution_count": 65,
     "metadata": {},
     "output_type": "execute_result"
    }
   ],
   "source": [
    "x"
   ]
  },
  {
   "cell_type": "code",
   "execution_count": 70,
   "id": "b460a241-23d6-468b-93b6-7d92fe8bf084",
   "metadata": {},
   "outputs": [
    {
     "data": {
      "text/plain": [
       "10"
      ]
     },
     "execution_count": 70,
     "metadata": {},
     "output_type": "execute_result"
    }
   ],
   "source": [
    "x = x + 1\n",
    "x"
   ]
  },
  {
   "cell_type": "code",
   "execution_count": 71,
   "id": "fd3d7857-13eb-445f-a626-1759c7e613e2",
   "metadata": {},
   "outputs": [
    {
     "data": {
      "text/plain": [
       "11"
      ]
     },
     "execution_count": 71,
     "metadata": {},
     "output_type": "execute_result"
    }
   ],
   "source": [
    "x += 1\n",
    "x"
   ]
  },
  {
   "cell_type": "code",
   "execution_count": 73,
   "id": "722f9586-fa1d-4464-80de-224211ba8ee5",
   "metadata": {},
   "outputs": [
    {
     "data": {
      "text/plain": [
       "7"
      ]
     },
     "execution_count": 73,
     "metadata": {},
     "output_type": "execute_result"
    }
   ],
   "source": [
    "x-= 2\n",
    "x"
   ]
  },
  {
   "cell_type": "code",
   "execution_count": 75,
   "id": "24cddb46-f0ef-4751-9065-143113da3cea",
   "metadata": {},
   "outputs": [
    {
     "data": {
      "text/plain": [
       "2401"
      ]
     },
     "execution_count": 75,
     "metadata": {},
     "output_type": "execute_result"
    }
   ],
   "source": [
    "x **= 2 \n",
    "x"
   ]
  },
  {
   "cell_type": "markdown",
   "id": "fa3996af-ec9b-473b-a1ef-5ddc04237f82",
   "metadata": {},
   "source": [
    "Порядок написания кода"
   ]
  },
  {
   "cell_type": "code",
   "execution_count": 76,
   "id": "55235250-011e-4fec-80eb-3396e43d7b3a",
   "metadata": {},
   "outputs": [
    {
     "name": "stdout",
     "output_type": "stream",
     "text": [
      "50\n"
     ]
    }
   ],
   "source": [
    "x = 100\n",
    "y = x - 50\n",
    "print(y)"
   ]
  },
  {
   "cell_type": "code",
   "execution_count": 77,
   "id": "44fad41c-c88a-4267-9c5d-a3e12d7a8a0c",
   "metadata": {},
   "outputs": [
    {
     "ename": "NameError",
     "evalue": "name 'xxx' is not defined",
     "output_type": "error",
     "traceback": [
      "\u001b[1;31m---------------------------------------------------------------------------\u001b[0m",
      "\u001b[1;31mNameError\u001b[0m                                 Traceback (most recent call last)",
      "Cell \u001b[1;32mIn[77], line 1\u001b[0m\n\u001b[1;32m----> 1\u001b[0m yyy \u001b[38;5;241m=\u001b[39m \u001b[43mxxx\u001b[49m \u001b[38;5;241m-\u001b[39m \u001b[38;5;241m50\u001b[39m\n\u001b[0;32m      2\u001b[0m xxx \u001b[38;5;241m=\u001b[39m \u001b[38;5;241m100\u001b[39m\n\u001b[0;32m      3\u001b[0m \u001b[38;5;28mprint\u001b[39m(yyy)\n",
      "\u001b[1;31mNameError\u001b[0m: name 'xxx' is not defined"
     ]
    }
   ],
   "source": [
    "yyy = xxx - 50\n",
    "xxx = 100\n",
    "print(yyy)"
   ]
  },
  {
   "cell_type": "code",
   "execution_count": 78,
   "id": "37f6cc06-c466-465d-af92-8ae1af3df0f3",
   "metadata": {},
   "outputs": [
    {
     "ename": "NameError",
     "evalue": "name 'h' is not defined",
     "output_type": "error",
     "traceback": [
      "\u001b[1;31m---------------------------------------------------------------------------\u001b[0m",
      "\u001b[1;31mNameError\u001b[0m                                 Traceback (most recent call last)",
      "Cell \u001b[1;32mIn[78], line 1\u001b[0m\n\u001b[1;32m----> 1\u001b[0m z \u001b[38;5;241m=\u001b[39m \u001b[43mh\u001b[49m \u001b[38;5;241m+\u001b[39m \u001b[38;5;241m10\u001b[39m\n",
      "\u001b[1;31mNameError\u001b[0m: name 'h' is not defined"
     ]
    }
   ],
   "source": [
    "z = h + 10"
   ]
  },
  {
   "cell_type": "code",
   "execution_count": 79,
   "id": "25a5109b-de4b-4eaa-8b5e-954f3e0c2d8e",
   "metadata": {},
   "outputs": [],
   "source": [
    "h = 100"
   ]
  },
  {
   "cell_type": "code",
   "execution_count": 80,
   "id": "ddddd56a-3419-4a32-b485-3babe38ffbd6",
   "metadata": {},
   "outputs": [
    {
     "ename": "NameError",
     "evalue": "name 'z' is not defined",
     "output_type": "error",
     "traceback": [
      "\u001b[1;31m---------------------------------------------------------------------------\u001b[0m",
      "\u001b[1;31mNameError\u001b[0m                                 Traceback (most recent call last)",
      "Cell \u001b[1;32mIn[80], line 1\u001b[0m\n\u001b[1;32m----> 1\u001b[0m \u001b[43mz\u001b[49m\n",
      "\u001b[1;31mNameError\u001b[0m: name 'z' is not defined"
     ]
    }
   ],
   "source": [
    "z"
   ]
  },
  {
   "cell_type": "markdown",
   "id": "3628667a-86b9-43c2-a860-13c9c76b58f3",
   "metadata": {},
   "source": [
    "# 4. Data types Convertion"
   ]
  },
  {
   "cell_type": "code",
   "execution_count": 82,
   "id": "3bb0b928-5c97-418f-8dd9-a8ec04ba7acd",
   "metadata": {},
   "outputs": [
    {
     "data": {
      "text/plain": [
       "100.567"
      ]
     },
     "execution_count": 82,
     "metadata": {},
     "output_type": "execute_result"
    }
   ],
   "source": [
    "var_float"
   ]
  },
  {
   "cell_type": "code",
   "execution_count": 83,
   "id": "dd11d3df-3156-4053-893c-18a94f432479",
   "metadata": {},
   "outputs": [
    {
     "data": {
      "text/plain": [
       "100"
      ]
     },
     "execution_count": 83,
     "metadata": {},
     "output_type": "execute_result"
    }
   ],
   "source": [
    "int(var_float)"
   ]
  },
  {
   "cell_type": "markdown",
   "id": "a9759c8d-47a8-4e0e-bc61-bab43f9f0dd3",
   "metadata": {},
   "source": [
    "ОкруглениЕ с указанием количества знаков после запятой\n"
   ]
  },
  {
   "cell_type": "code",
   "execution_count": 84,
   "id": "40c3f32a-eb63-4704-a581-cdd1c2c29b6f",
   "metadata": {},
   "outputs": [
    {
     "data": {
      "text/plain": [
       "1.33"
      ]
     },
     "execution_count": 84,
     "metadata": {},
     "output_type": "execute_result"
    }
   ],
   "source": [
    "round(1.325487878, 2)"
   ]
  },
  {
   "cell_type": "code",
   "execution_count": 85,
   "id": "86f3e381-87bf-4c24-92f2-9d895b541d0a",
   "metadata": {},
   "outputs": [
    {
     "data": {
      "text/plain": [
       "100.0"
      ]
     },
     "execution_count": 85,
     "metadata": {},
     "output_type": "execute_result"
    }
   ],
   "source": [
    "float(var_int)"
   ]
  },
  {
   "cell_type": "code",
   "execution_count": 86,
   "id": "006e967f-eda4-47a7-9b22-cfa12bea9873",
   "metadata": {},
   "outputs": [
    {
     "data": {
      "text/plain": [
       "'123'"
      ]
     },
     "execution_count": 86,
     "metadata": {},
     "output_type": "execute_result"
    }
   ],
   "source": [
    "str(123)"
   ]
  },
  {
   "cell_type": "code",
   "execution_count": 87,
   "id": "5f9d9d77-a93e-458e-b9ff-294521b811c1",
   "metadata": {},
   "outputs": [
    {
     "data": {
      "text/plain": [
       "'None'"
      ]
     },
     "execution_count": 87,
     "metadata": {},
     "output_type": "execute_result"
    }
   ],
   "source": [
    "str(None)"
   ]
  },
  {
   "cell_type": "code",
   "execution_count": 89,
   "id": "042a4622-81d6-4206-9f13-dc2d7340b78b",
   "metadata": {},
   "outputs": [
    {
     "data": {
      "text/plain": [
       "False"
      ]
     },
     "execution_count": 89,
     "metadata": {},
     "output_type": "execute_result"
    }
   ],
   "source": [
    "bool(var_none)"
   ]
  },
  {
   "cell_type": "code",
   "execution_count": 90,
   "id": "86c1ff40-4bc2-4013-a584-754d36c20772",
   "metadata": {},
   "outputs": [
    {
     "data": {
      "text/plain": [
       "'100'"
      ]
     },
     "execution_count": 90,
     "metadata": {},
     "output_type": "execute_result"
    }
   ],
   "source": [
    "var_string_int"
   ]
  },
  {
   "cell_type": "code",
   "execution_count": 91,
   "id": "db629c6f-b18f-4348-a5d5-cc4f1b592c3e",
   "metadata": {},
   "outputs": [
    {
     "data": {
      "text/plain": [
       "100"
      ]
     },
     "execution_count": 91,
     "metadata": {},
     "output_type": "execute_result"
    }
   ],
   "source": [
    "int(var_string_int)"
   ]
  },
  {
   "cell_type": "code",
   "execution_count": 92,
   "id": "624875b1-7320-4831-b6c1-821f2213c3ae",
   "metadata": {},
   "outputs": [
    {
     "data": {
      "text/plain": [
       "100.0"
      ]
     },
     "execution_count": 92,
     "metadata": {},
     "output_type": "execute_result"
    }
   ],
   "source": [
    "float(var_string_int)"
   ]
  },
  {
   "cell_type": "markdown",
   "id": "aea0a056-5a4e-4630-bf28-13913f76c660",
   "metadata": {},
   "source": [
    "# 5. Print"
   ]
  },
  {
   "cell_type": "code",
   "execution_count": 94,
   "id": "4fcc8380-67c4-4809-af94-d45e173df96c",
   "metadata": {},
   "outputs": [
    {
     "name": "stdout",
     "output_type": "stream",
     "text": [
      "100 0.5 False None Hello World\n"
     ]
    }
   ],
   "source": [
    "print(100, 0.5, False, None, 'Hello World')"
   ]
  },
  {
   "cell_type": "code",
   "execution_count": 95,
   "id": "d9d544e4-967a-4860-96b0-562faf1cf3c6",
   "metadata": {},
   "outputs": [
    {
     "data": {
      "text/plain": [
       "'Helloworld'"
      ]
     },
     "execution_count": 95,
     "metadata": {},
     "output_type": "execute_result"
    }
   ],
   "source": [
    "'Hello' + 'world'"
   ]
  },
  {
   "cell_type": "raw",
   "id": "c7004d18-6057-4d9f-8003-3e9605e1f346",
   "metadata": {},
   "source": [
    "'Hello' + ' ' + ' 'world'"
   ]
  },
  {
   "cell_type": "code",
   "execution_count": 99,
   "id": "b0d7582c-56bd-4171-ad79-bd02fc8a5440",
   "metadata": {},
   "outputs": [
    {
     "ename": "TypeError",
     "evalue": "can only concatenate str (not \"int\") to str",
     "output_type": "error",
     "traceback": [
      "\u001b[1;31m---------------------------------------------------------------------------\u001b[0m",
      "\u001b[1;31mTypeError\u001b[0m                                 Traceback (most recent call last)",
      "Cell \u001b[1;32mIn[99], line 1\u001b[0m\n\u001b[1;32m----> 1\u001b[0m \u001b[38;5;28mprint\u001b[39m(\u001b[38;5;124;43m'\u001b[39;49m\u001b[38;5;124;43mHi\u001b[39;49m\u001b[38;5;124;43m'\u001b[39;49m\u001b[43m \u001b[49m\u001b[38;5;241;43m+\u001b[39;49m\u001b[43m \u001b[49m\u001b[38;5;241;43m123\u001b[39;49m)\n",
      "\u001b[1;31mTypeError\u001b[0m: can only concatenate str (not \"int\") to str"
     ]
    }
   ],
   "source": [
    "print('Hi' + 123)"
   ]
  },
  {
   "cell_type": "code",
   "execution_count": 100,
   "id": "cc4e3449-a262-4b5a-b3b3-2e9f49e4c484",
   "metadata": {},
   "outputs": [
    {
     "name": "stdout",
     "output_type": "stream",
     "text": [
      "Hi123\n"
     ]
    }
   ],
   "source": [
    "print('Hi' + str(123))"
   ]
  },
  {
   "cell_type": "code",
   "execution_count": 101,
   "id": "ea16537f-a737-4d17-b967-2027e1238fd2",
   "metadata": {},
   "outputs": [
    {
     "name": "stdout",
     "output_type": "stream",
     "text": [
      "world**world1**word3\n"
     ]
    }
   ],
   "source": [
    "print('world','world1', 'word3', sep='**')"
   ]
  },
  {
   "cell_type": "code",
   "execution_count": 102,
   "id": "c92c7df2-673a-47e0-b752-0744bd455516",
   "metadata": {},
   "outputs": [
    {
     "name": "stdout",
     "output_type": "stream",
     "text": [
      "Hello World! bye"
     ]
    }
   ],
   "source": [
    "print('Hello World!', end=' bye')"
   ]
  },
  {
   "cell_type": "code",
   "execution_count": 106,
   "id": "0c932764-9228-453e-ac17-ec3e7a962dd0",
   "metadata": {},
   "outputs": [
    {
     "name": "stdout",
     "output_type": "stream",
     "text": [
      "Hello World! bye!Hi!\n"
     ]
    }
   ],
   "source": [
    "print('Hello World!', end=' bye!')\n",
    "print('Hi!')"
   ]
  },
  {
   "cell_type": "code",
   "execution_count": 107,
   "id": "afd9d500-4a52-4328-bf94-6e09a2cd31c0",
   "metadata": {},
   "outputs": [
    {
     "name": "stdout",
     "output_type": "stream",
     "text": [
      "My-name-is-..._______________________"
     ]
    }
   ],
   "source": [
    "print('My', 'name', 'is', '...', sep='-', end='_______________________')"
   ]
  }
 ],
 "metadata": {
  "kernelspec": {
   "display_name": "Python 3 (ipykernel)",
   "language": "python",
   "name": "python3"
  },
  "language_info": {
   "codemirror_mode": {
    "name": "ipython",
    "version": 3
   },
   "file_extension": ".py",
   "mimetype": "text/x-python",
   "name": "python",
   "nbconvert_exporter": "python",
   "pygments_lexer": "ipython3",
   "version": "3.11.1"
  }
 },
 "nbformat": 4,
 "nbformat_minor": 5
}
