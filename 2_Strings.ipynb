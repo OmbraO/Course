{
 "cells": [
  {
   "cell_type": "code",
   "execution_count": 1,
   "id": "d7411142-1013-4d87-b88e-3b4e2edb6c81",
   "metadata": {},
   "outputs": [],
   "source": [
    "string1 = 'Hello world'\n",
    "string2 = 'stArts with loWer lettEr'\n",
    "string3 = '$$$string with dollars$$$$$'"
   ]
  },
  {
   "cell_type": "markdown",
   "id": "fbeaffe4-0f27-4083-9b48-09923f0be64f",
   "metadata": {},
   "source": [
    "# Input"
   ]
  },
  {
   "cell_type": "code",
   "execution_count": null,
   "id": "415eef3b-e801-4349-9c2e-b75d5bd9a82b",
   "metadata": {},
   "outputs": [
    {
     "name": "stdin",
     "output_type": "stream",
     "text": [
      " 1234\n"
     ]
    },
    {
     "data": {
      "text/plain": [
       "'1234'"
      ]
     },
     "execution_count": 3,
     "metadata": {},
     "output_type": "execute_result"
    }
   ],
   "source": [
    "input()"
   ]
  },
  {
   "cell_type": "markdown",
   "id": "40cb36ab-0c8a-4dfc-97bc-f287df6af928",
   "metadata": {},
   "source": []
  },
  {
   "cell_type": "code",
   "execution_count": 4,
   "id": "e25a6765-a684-465a-8d71-8e620cc64a67",
   "metadata": {},
   "outputs": [
    {
     "name": "stdin",
     "output_type": "stream",
     "text": [
      "Please enter your name:  Olga\n"
     ]
    },
    {
     "data": {
      "text/plain": [
       "'Olga'"
      ]
     },
     "execution_count": 4,
     "metadata": {},
     "output_type": "execute_result"
    }
   ],
   "source": [
    "input('Please enter your name: ')"
   ]
  },
  {
   "cell_type": "code",
   "execution_count": 5,
   "id": "bf09666a-de84-429d-8fb8-b0860cc646af",
   "metadata": {},
   "outputs": [
    {
     "name": "stdin",
     "output_type": "stream",
     "text": [
      "Please enter your name:  OlgA\n"
     ]
    }
   ],
   "source": [
    "name = input('Please enter your name: ')"
   ]
  },
  {
   "cell_type": "code",
   "execution_count": 7,
   "id": "9eb33996-3122-4087-ade3-d4de69ca3513",
   "metadata": {},
   "outputs": [
    {
     "data": {
      "text/plain": [
       "'OlgA'"
      ]
     },
     "execution_count": 7,
     "metadata": {},
     "output_type": "execute_result"
    }
   ],
   "source": [
    "name"
   ]
  },
  {
   "cell_type": "markdown",
   "id": "bb4cf80d-0cec-4870-aa70-cc5daf7ff758",
   "metadata": {},
   "source": [
    "int переводим строку в число"
   ]
  },
  {
   "cell_type": "code",
   "execution_count": 10,
   "id": "ea391363-bedf-46f8-9d78-84a99b51a7fc",
   "metadata": {},
   "outputs": [
    {
     "name": "stdin",
     "output_type": "stream",
     "text": [
      "Please enter your number 12\n"
     ]
    }
   ],
   "source": [
    "number = int(input('Please enter your number'))"
   ]
  },
  {
   "cell_type": "markdown",
   "id": "168b5305-653f-4dad-bb6c-aa26933bd87a",
   "metadata": {},
   "source": [
    "print('Your number in power of 2 is', number**2)"
   ]
  },
  {
   "cell_type": "markdown",
   "id": "b3ce734f-97b2-4226-85b5-678ebe0b6962",
   "metadata": {},
   "source": [
    "# String operations"
   ]
  },
  {
   "cell_type": "code",
   "execution_count": 15,
   "id": "330e880c-6b42-44cc-aba4-5c56a26c3cf2",
   "metadata": {},
   "outputs": [
    {
     "data": {
      "text/plain": [
       "'Hello world stArts with loWer lettEr'"
      ]
     },
     "execution_count": 15,
     "metadata": {},
     "output_type": "execute_result"
    }
   ],
   "source": [
    "string1 + ' ' + string2"
   ]
  },
  {
   "cell_type": "code",
   "execution_count": 16,
   "id": "403e5af1-7afc-493a-a924-619a0d88bcfa",
   "metadata": {},
   "outputs": [
    {
     "data": {
      "text/plain": [
       "'Hello worldHello worldHello world'"
      ]
     },
     "execution_count": 16,
     "metadata": {},
     "output_type": "execute_result"
    }
   ],
   "source": [
    "string1 * 3"
   ]
  },
  {
   "cell_type": "code",
   "execution_count": 17,
   "id": "29ea57a1-79a4-4f79-ac4e-3982349198ac",
   "metadata": {},
   "outputs": [
    {
     "data": {
      "text/plain": [
       "'Hello world---stArts with loWer lettErHello world---stArts with loWer lettEr'"
      ]
     },
     "execution_count": 17,
     "metadata": {},
     "output_type": "execute_result"
    }
   ],
   "source": [
    "(string1 + '---' + string2)*2"
   ]
  },
  {
   "cell_type": "markdown",
   "id": "bdd5e940-5206-456d-a35f-2808cce76ed1",
   "metadata": {},
   "source": [
    "# Escape characters\n"
   ]
  },
  {
   "cell_type": "markdown",
   "id": "ec99603a-2092-4665-b9e1-4194d090a007",
   "metadata": {},
   "source": [
    "\\'     \\\\   экранирование    \\n новая строка"
   ]
  },
  {
   "cell_type": "code",
   "execution_count": 18,
   "id": "d5a6867d-a368-4504-a59d-35f18f69b684",
   "metadata": {},
   "outputs": [
    {
     "data": {
      "text/plain": [
       "\"I don't know\""
      ]
     },
     "execution_count": 18,
     "metadata": {},
     "output_type": "execute_result"
    }
   ],
   "source": [
    "'I don\\'t know'"
   ]
  },
  {
   "cell_type": "code",
   "execution_count": 19,
   "id": "8fa8d583-8403-4152-a656-859d460612de",
   "metadata": {},
   "outputs": [
    {
     "name": "stdout",
     "output_type": "stream",
     "text": [
      "Ç\\jupyter\\course\n"
     ]
    }
   ],
   "source": [
    "print('Ç\\\\jupyter\\course')"
   ]
  },
  {
   "cell_type": "code",
   "execution_count": 20,
   "id": "51162ea3-4303-49d0-9933-ecafcabb7fd7",
   "metadata": {},
   "outputs": [
    {
     "data": {
      "text/plain": [
       "'Hello\\nworld'"
      ]
     },
     "execution_count": 20,
     "metadata": {},
     "output_type": "execute_result"
    }
   ],
   "source": [
    "'Hello\\nworld'"
   ]
  },
  {
   "cell_type": "code",
   "execution_count": 21,
   "id": "9cbc4d8b-008d-4f62-9da6-19969e2aea33",
   "metadata": {},
   "outputs": [
    {
     "name": "stdout",
     "output_type": "stream",
     "text": [
      "Hello WORLD\n"
     ]
    }
   ],
   "source": [
    "print('Hello WORLD', end='\\n')"
   ]
  },
  {
   "cell_type": "markdown",
   "id": "7ddba9eb-a38e-4432-85cc-15f8baa01b2f",
   "metadata": {},
   "source": [
    "# Indexing and slicing"
   ]
  },
  {
   "cell_type": "markdown",
   "id": "fd953b5a-ff2c-4b12-8146-002832ad6863",
   "metadata": {},
   "source": [
    "len это измерение длинны итерируемого обьекта, строки"
   ]
  },
  {
   "cell_type": "code",
   "execution_count": 24,
   "id": "42793bcb-fdb6-49d9-a6f0-61ba0edd3850",
   "metadata": {},
   "outputs": [
    {
     "data": {
      "text/plain": [
       "11"
      ]
     },
     "execution_count": 24,
     "metadata": {},
     "output_type": "execute_result"
    }
   ],
   "source": [
    "len(string1)"
   ]
  },
  {
   "cell_type": "code",
   "execution_count": 25,
   "id": "7d8e117b-d927-439c-b32a-e88641bdc575",
   "metadata": {},
   "outputs": [
    {
     "data": {
      "text/plain": [
       "'Hello world'"
      ]
     },
     "execution_count": 25,
     "metadata": {},
     "output_type": "execute_result"
    }
   ],
   "source": [
    "string1"
   ]
  },
  {
   "cell_type": "code",
   "execution_count": 26,
   "id": "f1dcacdf-21da-4c2b-81a8-b4f82d5a0147",
   "metadata": {},
   "outputs": [
    {
     "data": {
      "text/plain": [
       "'H'"
      ]
     },
     "execution_count": 26,
     "metadata": {},
     "output_type": "execute_result"
    }
   ],
   "source": [
    "string1[0]"
   ]
  },
  {
   "cell_type": "code",
   "execution_count": 29,
   "id": "e0bf52e4-ab23-4419-841f-9adba7242307",
   "metadata": {},
   "outputs": [
    {
     "data": {
      "text/plain": [
       "'d'"
      ]
     },
     "execution_count": 29,
     "metadata": {},
     "output_type": "execute_result"
    }
   ],
   "source": [
    "string1[10]  # находим 11 знак в строке, счет идет от 0"
   ]
  },
  {
   "cell_type": "code",
   "execution_count": 28,
   "id": "cce0b352-8338-4f0f-8a7f-1870843f03b0",
   "metadata": {},
   "outputs": [
    {
     "ename": "IndexError",
     "evalue": "string index out of range",
     "output_type": "error",
     "traceback": [
      "\u001b[1;31m---------------------------------------------------------------------------\u001b[0m",
      "\u001b[1;31mIndexError\u001b[0m                                Traceback (most recent call last)",
      "Cell \u001b[1;32mIn[28], line 1\u001b[0m\n\u001b[1;32m----> 1\u001b[0m \u001b[43mstring1\u001b[49m\u001b[43m[\u001b[49m\u001b[38;5;241;43m11\u001b[39;49m\u001b[43m]\u001b[49m\n",
      "\u001b[1;31mIndexError\u001b[0m: string index out of range"
     ]
    }
   ],
   "source": [
    "string1[11]"
   ]
  },
  {
   "cell_type": "code",
   "execution_count": 30,
   "id": "11a6dc0d-e0f7-439a-bd2c-bba9d0619efc",
   "metadata": {},
   "outputs": [
    {
     "data": {
      "text/plain": [
       "'w'"
      ]
     },
     "execution_count": 30,
     "metadata": {},
     "output_type": "execute_result"
    }
   ],
   "source": [
    "string1[6]"
   ]
  },
  {
   "cell_type": "code",
   "execution_count": 31,
   "id": "c2e29258-3e77-4813-9b32-8f36833e4a1d",
   "metadata": {},
   "outputs": [
    {
     "data": {
      "text/plain": [
       "'d'"
      ]
     },
     "execution_count": 31,
     "metadata": {},
     "output_type": "execute_result"
    }
   ],
   "source": [
    "string1[-1]"
   ]
  },
  {
   "cell_type": "code",
   "execution_count": 32,
   "id": "1d03b7ab-5093-4287-90ff-5b6e0b141865",
   "metadata": {},
   "outputs": [
    {
     "data": {
      "text/plain": [
       "'l'"
      ]
     },
     "execution_count": 32,
     "metadata": {},
     "output_type": "execute_result"
    }
   ],
   "source": [
    "string1[-2]"
   ]
  },
  {
   "cell_type": "markdown",
   "id": "db648fae-b7fb-4d86-8ab1-60efdddd9243",
   "metadata": {},
   "source": [
    "Если считаем индекс слева направо, то с 0 положительные числа, если с конца, то отрицательные -1 -2 итд"
   ]
  },
  {
   "cell_type": "code",
   "execution_count": 34,
   "id": "ce697e1f-9d76-4912-aa42-d08a2c1a60bf",
   "metadata": {},
   "outputs": [
    {
     "data": {
      "text/plain": [
       "'stArts with loWer lettEr'"
      ]
     },
     "execution_count": 34,
     "metadata": {},
     "output_type": "execute_result"
    }
   ],
   "source": [
    "string2"
   ]
  },
  {
   "cell_type": "markdown",
   "id": "2b0b0f24-cc84-4562-aff2-84ce227853a7",
   "metadata": {},
   "source": [
    "Если делаем срез, то пишем на 1 символ больше, чем требуется, так как последний указанный не включается, то есть показан будет с 1 по 5"
   ]
  },
  {
   "cell_type": "code",
   "execution_count": 36,
   "id": "868de582-2fa7-448e-ba0f-609295d672f9",
   "metadata": {},
   "outputs": [
    {
     "data": {
      "text/plain": [
       "'ts with loWer lett'"
      ]
     },
     "execution_count": 36,
     "metadata": {},
     "output_type": "execute_result"
    }
   ],
   "source": [
    "string2[4:-2]"
   ]
  },
  {
   "cell_type": "code",
   "execution_count": 37,
   "id": "342ed868-8d51-4048-9af0-822f14260c7c",
   "metadata": {},
   "outputs": [
    {
     "data": {
      "text/plain": [
       "''"
      ]
     },
     "execution_count": 37,
     "metadata": {},
     "output_type": "execute_result"
    }
   ],
   "source": [
    "string2[7:3]"
   ]
  },
  {
   "cell_type": "code",
   "execution_count": 40,
   "id": "bd042618-89ff-43ac-b21b-64d2240f82e5",
   "metadata": {},
   "outputs": [
    {
     "data": {
      "text/plain": [
       "'trswt oe et'"
      ]
     },
     "execution_count": 40,
     "metadata": {},
     "output_type": "execute_result"
    }
   ],
   "source": [
    "string2[1:-1:2] # указан шаг, то есть каждая вторая буква"
   ]
  },
  {
   "cell_type": "code",
   "execution_count": 41,
   "id": "2480e985-0493-4a24-993b-26e0fe897ffc",
   "metadata": {},
   "outputs": [
    {
     "data": {
      "text/plain": [
       "'sr tlelt'"
      ]
     },
     "execution_count": 41,
     "metadata": {},
     "output_type": "execute_result"
    }
   ],
   "source": [
    "string2[::3]   #каждый третитй символ везде"
   ]
  },
  {
   "cell_type": "code",
   "execution_count": 42,
   "id": "77b903dc-fd8d-405d-9c6a-fc88cf9e452f",
   "metadata": {},
   "outputs": [
    {
     "data": {
      "text/plain": [
       "'w'"
      ]
     },
     "execution_count": 42,
     "metadata": {},
     "output_type": "execute_result"
    }
   ],
   "source": [
    "string2[7]"
   ]
  },
  {
   "cell_type": "code",
   "execution_count": 43,
   "id": "fb4ab893-9f80-4a86-85d5-bbf131be211f",
   "metadata": {},
   "outputs": [
    {
     "data": {
      "text/plain": [
       "'s with loWer lettEr'"
      ]
     },
     "execution_count": 43,
     "metadata": {},
     "output_type": "execute_result"
    }
   ],
   "source": [
    "string2[5:]"
   ]
  },
  {
   "cell_type": "code",
   "execution_count": 44,
   "id": "d115e05a-2658-49e1-8b5b-ac023226a95e",
   "metadata": {},
   "outputs": [
    {
     "data": {
      "text/plain": [
       "'rswt oe etr'"
      ]
     },
     "execution_count": 44,
     "metadata": {},
     "output_type": "execute_result"
    }
   ],
   "source": [
    "string2[3::2]"
   ]
  },
  {
   "cell_type": "code",
   "execution_count": 45,
   "id": "3349efcb-7879-48c7-8d65-dbf46bda2b15",
   "metadata": {},
   "outputs": [
    {
     "data": {
      "text/plain": [
       "'rEttel reWol htiw strAts'"
      ]
     },
     "execution_count": 45,
     "metadata": {},
     "output_type": "execute_result"
    }
   ],
   "source": [
    "string2[::-1]"
   ]
  },
  {
   "cell_type": "code",
   "execution_count": 48,
   "id": "e6c0df0c-fa40-42e8-aeb8-1dc10c4abc44",
   "metadata": {},
   "outputs": [
    {
     "data": {
      "text/plain": [
       "'w st'"
      ]
     },
     "execution_count": 48,
     "metadata": {},
     "output_type": "execute_result"
    }
   ],
   "source": [
    "string2[7:3:-1]"
   ]
  },
  {
   "cell_type": "markdown",
   "id": "5ece0caf-08da-4620-b759-5cbf1a80c077",
   "metadata": {},
   "source": [
    "# String methods"
   ]
  },
  {
   "cell_type": "markdown",
   "id": "677aa3fe-26a5-4723-a8df-d87543fe7324",
   "metadata": {},
   "source": [
    "Case methods"
   ]
  },
  {
   "cell_type": "code",
   "execution_count": 49,
   "id": "4ab1e4a1-90f7-4c67-87c2-fd1a4821a66d",
   "metadata": {},
   "outputs": [
    {
     "data": {
      "text/plain": [
       "'stArts with loWer lettEr'"
      ]
     },
     "execution_count": 49,
     "metadata": {},
     "output_type": "execute_result"
    }
   ],
   "source": [
    "\n",
    "string2"
   ]
  },
  {
   "cell_type": "code",
   "execution_count": 50,
   "id": "03b61a8a-9112-4a30-a2b7-7ca219cb7cca",
   "metadata": {},
   "outputs": [
    {
     "data": {
      "text/plain": [
       "'STARTS WITH LOWER LETTER'"
      ]
     },
     "execution_count": 50,
     "metadata": {},
     "output_type": "execute_result"
    }
   ],
   "source": [
    "string2.upper()"
   ]
  },
  {
   "cell_type": "code",
   "execution_count": 54,
   "id": "340cded2-a824-413b-9180-b9178c6e03eb",
   "metadata": {},
   "outputs": [
    {
     "data": {
      "text/plain": [
       "'RTS WIT'"
      ]
     },
     "execution_count": 54,
     "metadata": {},
     "output_type": "execute_result"
    }
   ],
   "source": [
    "string2[3:10].upper()"
   ]
  },
  {
   "cell_type": "code",
   "execution_count": 56,
   "id": "bf6edc3b-52af-4466-859c-ec954ab40aab",
   "metadata": {},
   "outputs": [
    {
     "ename": "TypeError",
     "evalue": "'str' object does not support item assignment",
     "output_type": "error",
     "traceback": [
      "\u001b[1;31m---------------------------------------------------------------------------\u001b[0m",
      "\u001b[1;31mTypeError\u001b[0m                                 Traceback (most recent call last)",
      "Cell \u001b[1;32mIn[56], line 1\u001b[0m\n\u001b[1;32m----> 1\u001b[0m \u001b[43mstring2\u001b[49m\u001b[43m[\u001b[49m\u001b[38;5;241;43m5\u001b[39;49m\u001b[43m]\u001b[49m \u001b[38;5;241m=\u001b[39m \u001b[38;5;124m'\u001b[39m\u001b[38;5;124mW\u001b[39m\u001b[38;5;124m'\u001b[39m \u001b[38;5;66;03m# нельзя изменить часть строки, так как неизменяемый обьект, только отображение\u001b[39;00m\n",
      "\u001b[1;31mTypeError\u001b[0m: 'str' object does not support item assignment"
     ]
    }
   ],
   "source": [
    "string2[5] = 'W' # нельзя изменить часть строки, так как неизменяемый обьект, только отображение"
   ]
  },
  {
   "cell_type": "code",
   "execution_count": 75,
   "id": "c730bc8c-b112-4f71-8f01-04082456a68c",
   "metadata": {},
   "outputs": [
    {
     "data": {
      "text/plain": [
       "'starts with lower letter'"
      ]
     },
     "execution_count": 75,
     "metadata": {},
     "output_type": "execute_result"
    }
   ],
   "source": [
    "string2.lower()  # так можно привести весь текст к нижнему регистру"
   ]
  },
  {
   "cell_type": "code",
   "execution_count": 59,
   "id": "ada1fa0a-5b35-400f-95ad-de7b5ec4471d",
   "metadata": {},
   "outputs": [
    {
     "data": {
      "text/plain": [
       "'starts with lower letter'"
      ]
     },
     "execution_count": 59,
     "metadata": {},
     "output_type": "execute_result"
    }
   ],
   "source": [
    "string2.casefold()"
   ]
  },
  {
   "cell_type": "code",
   "execution_count": 61,
   "id": "1d5aef86-6d29-40fe-9131-5ae6fc0643c1",
   "metadata": {},
   "outputs": [
    {
     "data": {
      "text/plain": [
       "'Starts with lower letter'"
      ]
     },
     "execution_count": 61,
     "metadata": {},
     "output_type": "execute_result"
    }
   ],
   "source": [
    "string2.capitalize() # приводит строку, обьект начало с заглавной и остальные буквы нижний регистр"
   ]
  },
  {
   "cell_type": "code",
   "execution_count": 63,
   "id": "09ec790e-fb18-4c96-a1df-adc389910c68",
   "metadata": {},
   "outputs": [
    {
     "data": {
      "text/plain": [
       "'Starts With Lower Letter'"
      ]
     },
     "execution_count": 63,
     "metadata": {},
     "output_type": "execute_result"
    }
   ],
   "source": [
    "string2.title() #каждое слово в обьекте по пробелам начинает с большой буквы"
   ]
  },
  {
   "cell_type": "code",
   "execution_count": 72,
   "id": "61e2e1a1-6c25-4a92-abd1-7fe23ef0b47c",
   "metadata": {},
   "outputs": [
    {
     "data": {
      "text/plain": [
       "'STaRTS WITH LOwER LETTeR'"
      ]
     },
     "execution_count": 72,
     "metadata": {},
     "output_type": "execute_result"
    }
   ],
   "source": [
    "string2.swapcase() #меняем регистр на обратный всех символов"
   ]
  },
  {
   "cell_type": "markdown",
   "id": "cb0a91af-8b9a-4ab0-9f59-8ccd194d7a41",
   "metadata": {},
   "source": [
    "Find and count"
   ]
  },
  {
   "cell_type": "code",
   "execution_count": 64,
   "id": "39a65075-0e15-42b3-ae70-949bfd95aeef",
   "metadata": {},
   "outputs": [
    {
     "data": {
      "text/plain": [
       "'Hello world'"
      ]
     },
     "execution_count": 64,
     "metadata": {},
     "output_type": "execute_result"
    }
   ],
   "source": [
    "string1\n"
   ]
  },
  {
   "cell_type": "code",
   "execution_count": 65,
   "id": "5e8fcaf3-b369-4b6a-a87b-24cd0c22e182",
   "metadata": {},
   "outputs": [
    {
     "data": {
      "text/plain": [
       "0"
      ]
     },
     "execution_count": 65,
     "metadata": {},
     "output_type": "execute_result"
    }
   ],
   "source": [
    "string1.count('1')"
   ]
  },
  {
   "cell_type": "code",
   "execution_count": 66,
   "id": "ea290ace-cda0-463d-af49-c7c7147d3736",
   "metadata": {},
   "outputs": [
    {
     "data": {
      "text/plain": [
       "0"
      ]
     },
     "execution_count": 66,
     "metadata": {},
     "output_type": "execute_result"
    }
   ],
   "source": [
    "string1.count('11')"
   ]
  },
  {
   "cell_type": "code",
   "execution_count": 67,
   "id": "ae300265-26ef-4dab-bd88-6e1c94513269",
   "metadata": {},
   "outputs": [
    {
     "data": {
      "text/plain": [
       "0"
      ]
     },
     "execution_count": 67,
     "metadata": {},
     "output_type": "execute_result"
    }
   ],
   "source": [
    "string1.count('111')"
   ]
  },
  {
   "cell_type": "code",
   "execution_count": 71,
   "id": "607872dd-a46b-408d-b7ae-1bc8735f57b5",
   "metadata": {},
   "outputs": [
    {
     "data": {
      "text/plain": [
       "\u001b[1;31mDocstring:\u001b[0m\n",
       "S.count(sub[, start[, end]]) -> int\n",
       "\n",
       "Return the number of non-overlapping occurrences of substring sub in\n",
       "string S[start:end].  Optional arguments start and end are\n",
       "interpreted as in slice notation.\n",
       "\u001b[1;31mType:\u001b[0m      builtin_function_or_method"
      ]
     },
     "metadata": {},
     "output_type": "display_data"
    }
   ],
   "source": [
    "string1.count?"
   ]
  },
  {
   "cell_type": "code",
   "execution_count": 73,
   "id": "3ebe92ed-61f2-4c69-9d29-8a4266b9aa25",
   "metadata": {},
   "outputs": [
    {
     "data": {
      "text/plain": [
       "0"
      ]
     },
     "execution_count": 73,
     "metadata": {},
     "output_type": "execute_result"
    }
   ],
   "source": [
    "string1.count('1', 0, 6)"
   ]
  },
  {
   "cell_type": "code",
   "execution_count": 74,
   "id": "c267594e-06d7-46f5-8b65-09364300a7a3",
   "metadata": {},
   "outputs": [
    {
     "data": {
      "text/plain": [
       "-1"
      ]
     },
     "execution_count": 74,
     "metadata": {},
     "output_type": "execute_result"
    }
   ],
   "source": [
    "string1.find('1')"
   ]
  },
  {
   "cell_type": "code",
   "execution_count": 76,
   "id": "33155cfe-6bf4-40cb-9cdf-57308c5f9ced",
   "metadata": {},
   "outputs": [
    {
     "data": {
      "text/plain": [
       "-1"
      ]
     },
     "execution_count": 76,
     "metadata": {},
     "output_type": "execute_result"
    }
   ],
   "source": [
    "string1.find('1',3)"
   ]
  },
  {
   "cell_type": "code",
   "execution_count": 77,
   "id": "0106f58e-7c21-4144-a606-30a393b01235",
   "metadata": {},
   "outputs": [
    {
     "data": {
      "text/plain": [
       "-1"
      ]
     },
     "execution_count": 77,
     "metadata": {},
     "output_type": "execute_result"
    }
   ],
   "source": [
    "string1.find('1',4)"
   ]
  },
  {
   "cell_type": "code",
   "execution_count": 78,
   "id": "26079332-6a50-4310-99b5-874ba07061e7",
   "metadata": {},
   "outputs": [
    {
     "data": {
      "text/plain": [
       "-1"
      ]
     },
     "execution_count": 78,
     "metadata": {},
     "output_type": "execute_result"
    }
   ],
   "source": [
    "string1.find('1',10)"
   ]
  },
  {
   "cell_type": "code",
   "execution_count": 79,
   "id": "c0e3faf7-b004-4f30-acb6-5b362fdea0bf",
   "metadata": {},
   "outputs": [
    {
     "ename": "ValueError",
     "evalue": "substring not found",
     "output_type": "error",
     "traceback": [
      "\u001b[1;31m---------------------------------------------------------------------------\u001b[0m",
      "\u001b[1;31mValueError\u001b[0m                                Traceback (most recent call last)",
      "Cell \u001b[1;32mIn[79], line 1\u001b[0m\n\u001b[1;32m----> 1\u001b[0m \u001b[43mstring1\u001b[49m\u001b[38;5;241;43m.\u001b[39;49m\u001b[43mindex\u001b[49m\u001b[43m(\u001b[49m\u001b[38;5;124;43m'\u001b[39;49m\u001b[38;5;124;43m1\u001b[39;49m\u001b[38;5;124;43m'\u001b[39;49m\u001b[43m)\u001b[49m\n",
      "\u001b[1;31mValueError\u001b[0m: substring not found"
     ]
    }
   ],
   "source": [
    "string1.index('1')"
   ]
  },
  {
   "cell_type": "code",
   "execution_count": 80,
   "id": "a6caf292-df19-43ad-a8ef-38f5e79eac05",
   "metadata": {},
   "outputs": [
    {
     "ename": "ValueError",
     "evalue": "substring not found",
     "output_type": "error",
     "traceback": [
      "\u001b[1;31m---------------------------------------------------------------------------\u001b[0m",
      "\u001b[1;31mValueError\u001b[0m                                Traceback (most recent call last)",
      "Cell \u001b[1;32mIn[80], line 1\u001b[0m\n\u001b[1;32m----> 1\u001b[0m \u001b[43mstring1\u001b[49m\u001b[38;5;241;43m.\u001b[39;49m\u001b[43mindex\u001b[49m\u001b[43m(\u001b[49m\u001b[38;5;124;43m'\u001b[39;49m\u001b[38;5;124;43mx\u001b[39;49m\u001b[38;5;124;43m'\u001b[39;49m\u001b[43m)\u001b[49m\n",
      "\u001b[1;31mValueError\u001b[0m: substring not found"
     ]
    }
   ],
   "source": [
    "string1.index('x')"
   ]
  },
  {
   "cell_type": "code",
   "execution_count": null,
   "id": "23255b37-5f59-44b3-ba10-f9fff3d5c0f9",
   "metadata": {},
   "outputs": [],
   "source": []
  },
  {
   "cell_type": "code",
   "execution_count": null,
   "id": "3919b801-cfc7-45b4-b13c-656bd9b92807",
   "metadata": {},
   "outputs": [],
   "source": []
  },
  {
   "cell_type": "code",
   "execution_count": null,
   "id": "990694dc-1c55-4c6f-b536-fdade7eff654",
   "metadata": {},
   "outputs": [],
   "source": []
  },
  {
   "cell_type": "code",
   "execution_count": null,
   "id": "6b69df6e-6fa1-4db2-aa4b-9938da88428f",
   "metadata": {},
   "outputs": [],
   "source": []
  },
  {
   "cell_type": "code",
   "execution_count": null,
   "id": "787af7cb-6443-4bc9-a45d-38e72682506f",
   "metadata": {},
   "outputs": [],
   "source": []
  },
  {
   "cell_type": "code",
   "execution_count": null,
   "id": "f33a280e-b84f-4ec3-b525-e6adf90d06d7",
   "metadata": {},
   "outputs": [],
   "source": []
  },
  {
   "cell_type": "code",
   "execution_count": null,
   "id": "caa54d00-2ad8-4b44-aae6-8bb1007b970c",
   "metadata": {},
   "outputs": [],
   "source": []
  },
  {
   "cell_type": "code",
   "execution_count": null,
   "id": "8177383c-1a25-4f8e-8c1f-531b1a5705ff",
   "metadata": {},
   "outputs": [],
   "source": []
  },
  {
   "cell_type": "code",
   "execution_count": null,
   "id": "8f726070-7e0a-4b06-9607-73d92530f5c8",
   "metadata": {},
   "outputs": [],
   "source": []
  },
  {
   "cell_type": "code",
   "execution_count": null,
   "id": "6f1238e1-4048-4b96-bdb2-115c97f7af87",
   "metadata": {},
   "outputs": [],
   "source": []
  },
  {
   "cell_type": "code",
   "execution_count": null,
   "id": "6177b65d-8311-4f9d-b20f-95f08421a00e",
   "metadata": {},
   "outputs": [],
   "source": []
  },
  {
   "cell_type": "code",
   "execution_count": null,
   "id": "f4c4117b-0322-4b9f-a091-5e204292aac1",
   "metadata": {},
   "outputs": [],
   "source": []
  },
  {
   "cell_type": "code",
   "execution_count": 81,
   "id": "095c8aa5-da98-48f3-8928-f4279128344c",
   "metadata": {},
   "outputs": [
    {
     "data": {
      "text/plain": [
       "False"
      ]
     },
     "execution_count": 81,
     "metadata": {},
     "output_type": "execute_result"
    }
   ],
   "source": [
    "'qwerty 123'.isalnum()"
   ]
  },
  {
   "cell_type": "code",
   "execution_count": 82,
   "id": "380a2d7a-b477-4c23-83f9-a1d3f2ee8769",
   "metadata": {},
   "outputs": [
    {
     "data": {
      "text/plain": [
       "True"
      ]
     },
     "execution_count": 82,
     "metadata": {},
     "output_type": "execute_result"
    }
   ],
   "source": [
    "'123456'.isdigit()"
   ]
  },
  {
   "cell_type": "code",
   "execution_count": 84,
   "id": "3912da40-3086-446a-8b46-a11ee1398f0e",
   "metadata": {},
   "outputs": [
    {
     "data": {
      "text/plain": [
       "True"
      ]
     },
     "execution_count": 84,
     "metadata": {},
     "output_type": "execute_result"
    }
   ],
   "source": [
    "'123456'.isnumeric()"
   ]
  },
  {
   "cell_type": "markdown",
   "id": "f2031694-be2c-4a71-b19a-e2c3dd60a166",
   "metadata": {},
   "source": [
    "Cleaning"
   ]
  },
  {
   "cell_type": "code",
   "execution_count": 85,
   "id": "0ba92597-0d3a-4e2c-985e-facb52e77221",
   "metadata": {},
   "outputs": [
    {
     "data": {
      "text/plain": [
       "'$$$string with dollars$$$$$'"
      ]
     },
     "execution_count": 85,
     "metadata": {},
     "output_type": "execute_result"
    }
   ],
   "source": [
    "string3"
   ]
  },
  {
   "cell_type": "code",
   "execution_count": 87,
   "id": "ff5f6f00-c883-4544-b489-7814e7a5483d",
   "metadata": {},
   "outputs": [
    {
     "data": {
      "text/plain": [
       "'string with dollars'"
      ]
     },
     "execution_count": 87,
     "metadata": {},
     "output_type": "execute_result"
    }
   ],
   "source": [
    "string3.strip('$') #удаляет знаки доллара"
   ]
  },
  {
   "cell_type": "code",
   "execution_count": 88,
   "id": "b8ef0cd3-c5a6-4e5f-9559-52c412f13ad5",
   "metadata": {},
   "outputs": [
    {
     "data": {
      "text/plain": [
       "'st$thth $$dg'"
      ]
     },
     "execution_count": 88,
     "metadata": {},
     "output_type": "execute_result"
    }
   ],
   "source": [
    "'$$$st$thth $$dg$$$'.strip('$')"
   ]
  },
  {
   "cell_type": "code",
   "execution_count": 91,
   "id": "d1b5223c-e406-4585-9135-c24d219331f7",
   "metadata": {},
   "outputs": [
    {
     "data": {
      "text/plain": [
       "'Hello world'"
      ]
     },
     "execution_count": 91,
     "metadata": {},
     "output_type": "execute_result"
    }
   ],
   "source": [
    "'%. (( $Hello world(.. %% '.strip(' %.($')"
   ]
  },
  {
   "cell_type": "code",
   "execution_count": 90,
   "id": "0711b5ec-99a4-4386-97fc-5eccb6a5aa1a",
   "metadata": {},
   "outputs": [
    {
     "data": {
      "text/plain": [
       "'HI'"
      ]
     },
     "execution_count": 90,
     "metadata": {},
     "output_type": "execute_result"
    }
   ],
   "source": [
    "'  HI '.strip()"
   ]
  },
  {
   "cell_type": "code",
   "execution_count": 92,
   "id": "f08cf9bd-d9c7-4ee7-a4b4-c5ab53b498f4",
   "metadata": {},
   "outputs": [
    {
     "data": {
      "text/plain": [
       "'$$$string with dollars'"
      ]
     },
     "execution_count": 92,
     "metadata": {},
     "output_type": "execute_result"
    }
   ],
   "source": [
    "string3.rstrip('$')"
   ]
  },
  {
   "cell_type": "code",
   "execution_count": 93,
   "id": "41c8b78f-acff-410e-a0aa-91707331b629",
   "metadata": {},
   "outputs": [
    {
     "data": {
      "text/plain": [
       "'string with dollars$$$$$'"
      ]
     },
     "execution_count": 93,
     "metadata": {},
     "output_type": "execute_result"
    }
   ],
   "source": [
    "string3.lstrip('$')"
   ]
  },
  {
   "cell_type": "markdown",
   "id": "5567cead-b871-4046-a6b4-f9d7d60f7995",
   "metadata": {},
   "source": [
    "REPLACE"
   ]
  },
  {
   "cell_type": "code",
   "execution_count": 95,
   "id": "498f834b-d458-4462-a9ec-7d3cf2ba7ece",
   "metadata": {},
   "outputs": [
    {
     "data": {
      "text/plain": [
       "'Hello planet'"
      ]
     },
     "execution_count": 95,
     "metadata": {},
     "output_type": "execute_result"
    }
   ],
   "source": [
    "string1.replace('world', 'planet')  # не меняет строку переменную, только выводит с изменением."
   ]
  },
  {
   "cell_type": "code",
   "execution_count": 99,
   "id": "c793f024-26d5-4ed7-a214-ebde9c62a08c",
   "metadata": {},
   "outputs": [
    {
     "data": {
      "text/plain": [
       "'Hello planet'"
      ]
     },
     "execution_count": 99,
     "metadata": {},
     "output_type": "execute_result"
    }
   ],
   "source": [
    "new_string1 = string1.replace('world', 'planet') #изменяет перенную на новую полностью\n",
    "new_string1"
   ]
  },
  {
   "cell_type": "code",
   "execution_count": 101,
   "id": "8b5bb349-a540-4177-9603-9b4ce66cc00e",
   "metadata": {},
   "outputs": [
    {
     "data": {
      "text/plain": [
       "'Hello world'"
      ]
     },
     "execution_count": 101,
     "metadata": {},
     "output_type": "execute_result"
    }
   ],
   "source": [
    "string1.replace('1', '')"
   ]
  },
  {
   "cell_type": "code",
   "execution_count": 103,
   "id": "9cf3d9bc-dc89-40ac-ae5c-480f87c19754",
   "metadata": {},
   "outputs": [
    {
     "data": {
      "text/plain": [
       "'string with dollars'"
      ]
     },
     "execution_count": 103,
     "metadata": {},
     "output_type": "execute_result"
    }
   ],
   "source": [
    "'$$$string with dollars$$$$$'.replace('$','')  # убирает все доллары!"
   ]
  },
  {
   "cell_type": "code",
   "execution_count": 104,
   "id": "e3728fc4-1db6-4626-a818-c7fa6edfe023",
   "metadata": {},
   "outputs": [
    {
     "data": {
      "text/plain": [
       "'string with dollars'"
      ]
     },
     "execution_count": 104,
     "metadata": {},
     "output_type": "execute_result"
    }
   ],
   "source": [
    "'$$$string with dollars$$$$$'.strip('%').replace('$','')"
   ]
  },
  {
   "cell_type": "code",
   "execution_count": 106,
   "id": "d5298cae-9dce-4b02-b039-d69e4f0a6213",
   "metadata": {},
   "outputs": [
    {
     "data": {
      "text/plain": [
       "'HeLLo world'"
      ]
     },
     "execution_count": 106,
     "metadata": {},
     "output_type": "execute_result"
    }
   ],
   "source": [
    "string1.replace('l','L', 2) # замени букву л на большую 2 раза!"
   ]
  },
  {
   "cell_type": "markdown",
   "id": "396a773b-0654-4fe7-80b4-2c25be982943",
   "metadata": {},
   "source": [
    "# Format"
   ]
  },
  {
   "cell_type": "code",
   "execution_count": 108,
   "id": "4a245b2f-b23e-4679-95de-80dbf1632d57",
   "metadata": {},
   "outputs": [],
   "source": [
    "f_string = 'My name is {}. I am {} years old. My salary is {}'"
   ]
  },
  {
   "cell_type": "code",
   "execution_count": 109,
   "id": "07834dfe-6962-40ac-85e3-17d6b4957cd1",
   "metadata": {},
   "outputs": [
    {
     "data": {
      "text/plain": [
       "'My name is Jack. I am 39 years old. My salary is 2000'"
      ]
     },
     "execution_count": 109,
     "metadata": {},
     "output_type": "execute_result"
    }
   ],
   "source": [
    "f_string.format('Jack', 39, 2000)"
   ]
  },
  {
   "cell_type": "code",
   "execution_count": 110,
   "id": "e897a672-e299-438b-a514-bbe5f4aa7bd0",
   "metadata": {},
   "outputs": [],
   "source": [
    "f_string = 'My name is {1}. I am {0} years old. My salary is {2}'"
   ]
  },
  {
   "cell_type": "code",
   "execution_count": 111,
   "id": "127a1e10-bfda-4138-99df-381690476cb5",
   "metadata": {
    "tags": []
   },
   "outputs": [
    {
     "data": {
      "text/plain": [
       "'My name is 39. I am Jack years old. My salary is 2000'"
      ]
     },
     "execution_count": 111,
     "metadata": {},
     "output_type": "execute_result"
    }
   ],
   "source": [
    "f_string.format('Jack', 39, 2000)"
   ]
  },
  {
   "cell_type": "code",
   "execution_count": 112,
   "id": "5edb7f53-908c-4702-9632-556a718dd877",
   "metadata": {},
   "outputs": [],
   "source": [
    "f_string = 'My name is {name}. I am {age} years old. My salary is {salary}'"
   ]
  },
  {
   "cell_type": "code",
   "execution_count": 113,
   "id": "b948c9c9-2b05-4aa1-91a9-8232ceab4108",
   "metadata": {},
   "outputs": [
    {
     "data": {
      "text/plain": [
       "'My name is Bill. I am 19 years old. My salary is 3000'"
      ]
     },
     "execution_count": 113,
     "metadata": {},
     "output_type": "execute_result"
    }
   ],
   "source": [
    "f_string.format(salary=3000, name='Bill', age=19)"
   ]
  },
  {
   "cell_type": "code",
   "execution_count": 114,
   "id": "ca0486fc-d8f7-4667-894a-3f427f7a0808",
   "metadata": {},
   "outputs": [],
   "source": [
    "n = 'John'\n",
    "s = 1200\n",
    "a = 22"
   ]
  },
  {
   "cell_type": "code",
   "execution_count": 116,
   "id": "1b241f06-2cb3-40f4-8e69-facc96dba000",
   "metadata": {},
   "outputs": [
    {
     "data": {
      "text/plain": [
       "'My name is John. I am 22 years old. My salary is 1200'"
      ]
     },
     "execution_count": 116,
     "metadata": {},
     "output_type": "execute_result"
    }
   ],
   "source": [
    "f_string.format(salary=s, age=a, name=n)"
   ]
  },
  {
   "cell_type": "code",
   "execution_count": 117,
   "id": "e1c07965-2f79-49ae-8699-19434e163e24",
   "metadata": {},
   "outputs": [],
   "source": [
    "f_string = 'My name is {name}. I am {age} years old. My salary is {salary:,}'"
   ]
  },
  {
   "cell_type": "code",
   "execution_count": 119,
   "id": "f578a95b-0dbc-4dc9-aa1f-f09ef2e1c392",
   "metadata": {},
   "outputs": [
    {
     "data": {
      "text/plain": [
       "'My name is Joe. I am 47 years old. My salary is 2,500,000'"
      ]
     },
     "execution_count": 119,
     "metadata": {},
     "output_type": "execute_result"
    }
   ],
   "source": [
    "f_string.format(name='Joe', age=47, salary=2500000)"
   ]
  },
  {
   "cell_type": "markdown",
   "id": "3dc898d7-5f5f-4be5-a576-20c35089fc3c",
   "metadata": {},
   "source": [
    "Formated string"
   ]
  },
  {
   "cell_type": "code",
   "execution_count": 121,
   "id": "469b646f-6aed-4061-b2b7-77e18b060173",
   "metadata": {},
   "outputs": [],
   "source": [
    "total = 21\n",
    "name = 'Andrew'\n",
    "height = 181\n"
   ]
  },
  {
   "cell_type": "markdown",
   "id": "034b6290-dff6-4b58-820d-6bf82b34bea3",
   "metadata": {},
   "source": [
    "чтобысоздать форматированную строку ставим перед f'"
   ]
  },
  {
   "cell_type": "code",
   "execution_count": 122,
   "id": "34b1ac58-6c53-4b06-ae64-7c8327f9c75a",
   "metadata": {},
   "outputs": [],
   "source": [
    "f_string = f'There are {total} students in the class. The heighest of them is {name}. His height is {height}'"
   ]
  },
  {
   "cell_type": "code",
   "execution_count": 123,
   "id": "256dd141-6336-4045-9191-ef1200411603",
   "metadata": {},
   "outputs": [
    {
     "data": {
      "text/plain": [
       "'There are 21 students in the class. The heighest of them is Andrew. His height is 181'"
      ]
     },
     "execution_count": 123,
     "metadata": {},
     "output_type": "execute_result"
    }
   ],
   "source": [
    "f_string"
   ]
  },
  {
   "cell_type": "code",
   "execution_count": 124,
   "id": "fcacd3d5-ddcc-4a6a-b965-0e848c668480",
   "metadata": {},
   "outputs": [],
   "source": [
    "name = 'Kate'"
   ]
  },
  {
   "cell_type": "code",
   "execution_count": 125,
   "id": "6075ab1d-9879-4f54-9f9c-af00efd50e57",
   "metadata": {},
   "outputs": [
    {
     "data": {
      "text/plain": [
       "'There are 21 students in the class. The heighest of them is Andrew. His height is 181'"
      ]
     },
     "execution_count": 125,
     "metadata": {},
     "output_type": "execute_result"
    }
   ],
   "source": [
    "f_string"
   ]
  },
  {
   "cell_type": "code",
   "execution_count": 126,
   "id": "6ead8ca8-b61e-4f85-8a05-e13711b8a3cf",
   "metadata": {},
   "outputs": [],
   "source": [
    "leg1 = 4\n",
    "leg2 = 7"
   ]
  },
  {
   "cell_type": "code",
   "execution_count": 136,
   "id": "d46d7b41-c530-4266-8dae-d11408ebcdbf",
   "metadata": {},
   "outputs": [],
   "source": [
    "triangle = f' The squre of hypotenuse of the triangle with legs: {leg1} and {leg2} is {leg1**2 + leg2**2:.4f} cm'  #  4а это количество знаков после запятой в результтате"
   ]
  },
  {
   "cell_type": "code",
   "execution_count": 135,
   "id": "a8ff5c83-4e34-4ac0-81db-b8ebf57c780d",
   "metadata": {},
   "outputs": [
    {
     "data": {
      "text/plain": [
       "' The squre of hypotenuse of the triangle with legs: 4 and 7 is 65.0000 cm'"
      ]
     },
     "execution_count": 135,
     "metadata": {},
     "output_type": "execute_result"
    }
   ],
   "source": [
    "triangle"
   ]
  },
  {
   "cell_type": "code",
   "execution_count": 129,
   "id": "b344b6c0-25a5-4435-80d4-52f5fc4f80bf",
   "metadata": {},
   "outputs": [],
   "source": [
    "name = 'gregory'"
   ]
  },
  {
   "cell_type": "code",
   "execution_count": 131,
   "id": "e06e74da-b5c1-46c1-a56a-d23d8cad02a0",
   "metadata": {},
   "outputs": [
    {
     "data": {
      "text/plain": [
       "'My name is Gregory'"
      ]
     },
     "execution_count": 131,
     "metadata": {},
     "output_type": "execute_result"
    }
   ],
   "source": [
    "f'My name is {name.title()}' # форматированная строка, что значит в данном случае, что имя всегда будет выводиться с большой буквы."
   ]
  },
  {
   "cell_type": "markdown",
   "id": "e7c6cb3a-4c80-4120-959b-771aea3ff2cc",
   "metadata": {},
   "source": [
    "# Bite string"
   ]
  },
  {
   "cell_type": "code",
   "execution_count": 137,
   "id": "2142423e-d554-468c-b79d-8b8216586985",
   "metadata": {},
   "outputs": [
    {
     "data": {
      "text/plain": [
       "'Hello world'"
      ]
     },
     "execution_count": 137,
     "metadata": {},
     "output_type": "execute_result"
    }
   ],
   "source": [
    "string1"
   ]
  },
  {
   "cell_type": "code",
   "execution_count": 138,
   "id": "385528b4-098f-40ad-bd4e-8f287fc7a284",
   "metadata": {},
   "outputs": [],
   "source": [
    "byte_string = string1.encode('utf32')"
   ]
  },
  {
   "cell_type": "code",
   "execution_count": 140,
   "id": "75da0f42-05e2-494d-a420-afe0f7facec0",
   "metadata": {},
   "outputs": [
    {
     "data": {
      "text/plain": [
       "b'\\xff\\xfe\\x00\\x00H\\x00\\x00\\x00e\\x00\\x00\\x00l\\x00\\x00\\x00l\\x00\\x00\\x00o\\x00\\x00\\x00 \\x00\\x00\\x00w\\x00\\x00\\x00o\\x00\\x00\\x00r\\x00\\x00\\x00l\\x00\\x00\\x00d\\x00\\x00\\x00'"
      ]
     },
     "execution_count": 140,
     "metadata": {},
     "output_type": "execute_result"
    }
   ],
   "source": [
    "byte_string"
   ]
  },
  {
   "cell_type": "code",
   "execution_count": 142,
   "id": "b3f8f975-4e7d-463e-8694-76e298c77b40",
   "metadata": {},
   "outputs": [
    {
     "data": {
      "text/plain": [
       "'Hello world'"
      ]
     },
     "execution_count": 142,
     "metadata": {},
     "output_type": "execute_result"
    }
   ],
   "source": [
    "byte_string.decode('utf32')  # изменение кодировки"
   ]
  },
  {
   "cell_type": "code",
   "execution_count": 143,
   "id": "1e519614-0c97-4ba2-8cf0-a0c5ca33577c",
   "metadata": {},
   "outputs": [
    {
     "data": {
      "text/plain": [
       "'                   Hello world                    '"
      ]
     },
     "execution_count": 143,
     "metadata": {},
     "output_type": "execute_result"
    }
   ],
   "source": [
    "string1.center(50)"
   ]
  },
  {
   "cell_type": "code",
   "execution_count": 144,
   "id": "276e344f-9cc3-4ca8-a107-af46416e6092",
   "metadata": {},
   "outputs": [
    {
     "data": {
      "text/plain": [
       "'-------------------Hello world--------------------'"
      ]
     },
     "execution_count": 144,
     "metadata": {},
     "output_type": "execute_result"
    }
   ],
   "source": [
    "string1.center(50, '-')"
   ]
  },
  {
   "cell_type": "code",
   "execution_count": 145,
   "id": "2946fc7a-c9c3-4a08-92cc-ab73dbc08f30",
   "metadata": {},
   "outputs": [
    {
     "data": {
      "text/plain": [
       "'000000000000000000000000000000000000000Hello world'"
      ]
     },
     "execution_count": 145,
     "metadata": {},
     "output_type": "execute_result"
    }
   ],
   "source": [
    "string1.zfill(50)"
   ]
  },
  {
   "cell_type": "code",
   "execution_count": null,
   "id": "b0ebd353-6722-4460-9b08-f70149a11c72",
   "metadata": {},
   "outputs": [],
   "source": []
  }
 ],
 "metadata": {
  "kernelspec": {
   "display_name": "Python 3 (ipykernel)",
   "language": "python",
   "name": "python3"
  },
  "language_info": {
   "codemirror_mode": {
    "name": "ipython",
    "version": 3
   },
   "file_extension": ".py",
   "mimetype": "text/x-python",
   "name": "python",
   "nbconvert_exporter": "python",
   "pygments_lexer": "ipython3",
   "version": "3.11.1"
  }
 },
 "nbformat": 4,
 "nbformat_minor": 5
}
