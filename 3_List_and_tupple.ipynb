{
 "cells": [
  {
   "cell_type": "code",
   "execution_count": 1,
   "id": "1bb66db7-14ca-4fde-a5d6-339f1016e5f5",
   "metadata": {},
   "outputs": [],
   "source": [
    "empty_list = [] # создание пустого списка"
   ]
  },
  {
   "cell_type": "code",
   "execution_count": 2,
   "id": "cb7a2a49-1079-46e7-8c64-d55dec4bd2e7",
   "metadata": {},
   "outputs": [
    {
     "data": {
      "text/plain": [
       "[]"
      ]
     },
     "execution_count": 2,
     "metadata": {},
     "output_type": "execute_result"
    }
   ],
   "source": [
    "empty_list"
   ]
  },
  {
   "cell_type": "code",
   "execution_count": 3,
   "id": "ae1de84a-bec5-411f-9b52-7aa5738e654c",
   "metadata": {},
   "outputs": [
    {
     "data": {
      "text/plain": [
       "False"
      ]
     },
     "execution_count": 3,
     "metadata": {},
     "output_type": "execute_result"
    }
   ],
   "source": [
    "bool(empty_list)"
   ]
  },
  {
   "cell_type": "code",
   "execution_count": 4,
   "id": "9da2e9bd-53e2-4716-bb87-d05f1385a046",
   "metadata": {},
   "outputs": [
    {
     "data": {
      "text/plain": [
       "list"
      ]
     },
     "execution_count": 4,
     "metadata": {},
     "output_type": "execute_result"
    }
   ],
   "source": [
    "type(empty_list)"
   ]
  },
  {
   "cell_type": "code",
   "execution_count": 5,
   "id": "588636b1-ff46-43f1-96a5-c59bbdce0f2d",
   "metadata": {},
   "outputs": [],
   "source": [
    "not_empty_list = [1, 0.444, 'Hello', True, None, [1, 2, 3]]"
   ]
  },
  {
   "cell_type": "code",
   "execution_count": 6,
   "id": "59e0632f-d2b9-4b53-b95e-d9dfea970a4a",
   "metadata": {},
   "outputs": [
    {
     "data": {
      "text/plain": [
       "[1, 0.444, 'Hello', True, None, [1, 2, 3]]"
      ]
     },
     "execution_count": 6,
     "metadata": {},
     "output_type": "execute_result"
    }
   ],
   "source": [
    "not_empty_list"
   ]
  },
  {
   "cell_type": "markdown",
   "id": "bb5f5e3f-d34c-4f24-b960-6bf3cb8dddd5",
   "metadata": {},
   "source": [
    "# List to variables\n"
   ]
  },
  {
   "cell_type": "code",
   "execution_count": 7,
   "id": "af4d832f-08db-447e-b7ff-9a3c1871391c",
   "metadata": {},
   "outputs": [],
   "source": [
    "var1, var2, var3 = [1, 10, 100]"
   ]
  },
  {
   "cell_type": "code",
   "execution_count": 8,
   "id": "189f5b19-66ed-4704-9721-fba2cc99295e",
   "metadata": {},
   "outputs": [
    {
     "data": {
      "text/plain": [
       "1"
      ]
     },
     "execution_count": 8,
     "metadata": {},
     "output_type": "execute_result"
    }
   ],
   "source": [
    "var1"
   ]
  },
  {
   "cell_type": "code",
   "execution_count": 9,
   "id": "af11bfc4-cc7b-4c1b-bdce-e9f999aed17d",
   "metadata": {},
   "outputs": [
    {
     "data": {
      "text/plain": [
       "10"
      ]
     },
     "execution_count": 9,
     "metadata": {},
     "output_type": "execute_result"
    }
   ],
   "source": [
    "var2"
   ]
  },
  {
   "cell_type": "code",
   "execution_count": 10,
   "id": "237fc492-9077-4eed-b758-a2c0d3ecb857",
   "metadata": {},
   "outputs": [
    {
     "data": {
      "text/plain": [
       "100"
      ]
     },
     "execution_count": 10,
     "metadata": {},
     "output_type": "execute_result"
    }
   ],
   "source": [
    "var3"
   ]
  },
  {
   "cell_type": "code",
   "execution_count": 11,
   "id": "53a7740d-5635-4913-b5c1-7238516c9a0d",
   "metadata": {},
   "outputs": [
    {
     "ename": "ValueError",
     "evalue": "too many values to unpack (expected 2)",
     "output_type": "error",
     "traceback": [
      "\u001b[1;31m---------------------------------------------------------------------------\u001b[0m",
      "\u001b[1;31mValueError\u001b[0m                                Traceback (most recent call last)",
      "Cell \u001b[1;32mIn[11], line 1\u001b[0m\n\u001b[1;32m----> 1\u001b[0m var1, var2 \u001b[38;5;241m=\u001b[39m [\u001b[38;5;241m1\u001b[39m, \u001b[38;5;241m2\u001b[39m, \u001b[38;5;241m3\u001b[39m]  \u001b[38;5;66;03m#  ошибка, так как элементов больше, чем переменных\u001b[39;00m\n",
      "\u001b[1;31mValueError\u001b[0m: too many values to unpack (expected 2)"
     ]
    }
   ],
   "source": [
    "var1, var2 = [1, 2, 3]  #  ошибка, так как элементов больше, чем переменных"
   ]
  },
  {
   "cell_type": "code",
   "execution_count": 12,
   "id": "090f78e6-2285-44b8-98f8-212b9c04e391",
   "metadata": {},
   "outputs": [],
   "source": [
    "var1, var2, *var3 = [1, 2, 3, 4, 5, 6]              # * это знак распаковки или запаковки? то есть говорим, что запакуй все оставшиеся переменные в var3"
   ]
  },
  {
   "cell_type": "code",
   "execution_count": 13,
   "id": "e419373c-38f8-43ef-8750-a6f3822ce8ac",
   "metadata": {},
   "outputs": [
    {
     "data": {
      "text/plain": [
       "1"
      ]
     },
     "execution_count": 13,
     "metadata": {},
     "output_type": "execute_result"
    }
   ],
   "source": [
    "var1"
   ]
  },
  {
   "cell_type": "code",
   "execution_count": 14,
   "id": "33abe6ee-e380-44c6-8f30-54a590e77640",
   "metadata": {},
   "outputs": [
    {
     "data": {
      "text/plain": [
       "2"
      ]
     },
     "execution_count": 14,
     "metadata": {},
     "output_type": "execute_result"
    }
   ],
   "source": [
    "var2"
   ]
  },
  {
   "cell_type": "code",
   "execution_count": 15,
   "id": "66daeca5-897d-4817-a414-7feffc49fb19",
   "metadata": {},
   "outputs": [
    {
     "data": {
      "text/plain": [
       "[3, 4, 5, 6]"
      ]
     },
     "execution_count": 15,
     "metadata": {},
     "output_type": "execute_result"
    }
   ],
   "source": [
    "var3"
   ]
  },
  {
   "cell_type": "code",
   "execution_count": 16,
   "id": "f751f727-c22f-474b-9d3f-9de44227799e",
   "metadata": {},
   "outputs": [],
   "source": [
    "var1, *var2, var3, var4, = [1, 2, 3, 4, 5, 'a', 'b',' c']"
   ]
  },
  {
   "cell_type": "code",
   "execution_count": 17,
   "id": "e2784c33-864d-407b-9949-a03698233cd5",
   "metadata": {},
   "outputs": [
    {
     "data": {
      "text/plain": [
       "1"
      ]
     },
     "execution_count": 17,
     "metadata": {},
     "output_type": "execute_result"
    }
   ],
   "source": [
    "var1"
   ]
  },
  {
   "cell_type": "code",
   "execution_count": 18,
   "id": "bb4e8062-61ac-4e3a-aca9-560182fb067d",
   "metadata": {},
   "outputs": [
    {
     "data": {
      "text/plain": [
       "[2, 3, 4, 5, 'a']"
      ]
     },
     "execution_count": 18,
     "metadata": {},
     "output_type": "execute_result"
    }
   ],
   "source": [
    "var2"
   ]
  },
  {
   "cell_type": "code",
   "execution_count": 19,
   "id": "3aaf1bad-006a-465f-8d4e-7c95b043d40f",
   "metadata": {},
   "outputs": [
    {
     "data": {
      "text/plain": [
       "[2, 3, 4, 5, 'a']"
      ]
     },
     "execution_count": 19,
     "metadata": {},
     "output_type": "execute_result"
    }
   ],
   "source": [
    "var2"
   ]
  },
  {
   "cell_type": "code",
   "execution_count": 20,
   "id": "75b2df85-8f43-4841-a441-03f699771d62",
   "metadata": {},
   "outputs": [
    {
     "data": {
      "text/plain": [
       "' c'"
      ]
     },
     "execution_count": 20,
     "metadata": {},
     "output_type": "execute_result"
    }
   ],
   "source": [
    "var4"
   ]
  },
  {
   "cell_type": "code",
   "execution_count": 21,
   "id": "d5672677-0bb5-43aa-9368-cd9f5971052a",
   "metadata": {},
   "outputs": [
    {
     "name": "stdout",
     "output_type": "stream",
     "text": [
      "[1, 0.444, 'Hello', True, None, [1, 2, 3]]\n"
     ]
    }
   ],
   "source": [
    "print(not_empty_list)"
   ]
  },
  {
   "cell_type": "code",
   "execution_count": 22,
   "id": "5ed1e8d6-b06d-4558-9a52-14776db33a85",
   "metadata": {},
   "outputs": [
    {
     "name": "stdout",
     "output_type": "stream",
     "text": [
      "1 0.444 Hello True None [1, 2, 3]\n"
     ]
    }
   ],
   "source": [
    "print(*not_empty_list)"
   ]
  },
  {
   "cell_type": "markdown",
   "id": "ffad3c45-2388-4198-afc7-17b1aba88469",
   "metadata": {},
   "source": [
    "# Indexing"
   ]
  },
  {
   "cell_type": "code",
   "execution_count": 23,
   "id": "2f478ebb-d14a-42dc-a468-0288b931975e",
   "metadata": {},
   "outputs": [
    {
     "data": {
      "text/plain": [
       "1"
      ]
     },
     "execution_count": 23,
     "metadata": {},
     "output_type": "execute_result"
    }
   ],
   "source": [
    "not_empty_list[0]"
   ]
  },
  {
   "cell_type": "code",
   "execution_count": 24,
   "id": "8c0a19e3-891a-49b1-a6fc-32d90c27a880",
   "metadata": {},
   "outputs": [
    {
     "data": {
      "text/plain": [
       "[1, 2, 3]"
      ]
     },
     "execution_count": 24,
     "metadata": {},
     "output_type": "execute_result"
    }
   ],
   "source": [
    "not_empty_list[-1]"
   ]
  },
  {
   "cell_type": "code",
   "execution_count": 25,
   "id": "a41ef8fd-dc2e-4e67-b52b-b25e5b6827f6",
   "metadata": {},
   "outputs": [
    {
     "data": {
      "text/plain": [
       "['Hello', True, None]"
      ]
     },
     "execution_count": 25,
     "metadata": {},
     "output_type": "execute_result"
    }
   ],
   "source": [
    "not_empty_list[2:5]"
   ]
  },
  {
   "cell_type": "code",
   "execution_count": 26,
   "id": "34708e77-38ed-4cd2-998e-c9b534638cc4",
   "metadata": {},
   "outputs": [
    {
     "data": {
      "text/plain": [
       "[1, 'Hello']"
      ]
     },
     "execution_count": 26,
     "metadata": {},
     "output_type": "execute_result"
    }
   ],
   "source": [
    "not_empty_list[:-2:2]"
   ]
  },
  {
   "cell_type": "code",
   "execution_count": 27,
   "id": "55bbaae1-e377-4bdd-9fe1-e79d3cdf47a4",
   "metadata": {},
   "outputs": [],
   "source": [
    "not_empty_list[2] = 'Hi'"
   ]
  },
  {
   "cell_type": "code",
   "execution_count": 28,
   "id": "8dff27cb-a439-42c3-931f-1ea1c87c549d",
   "metadata": {},
   "outputs": [
    {
     "data": {
      "text/plain": [
       "[1, 0.444, 'Hi', True, None, [1, 2, 3]]"
      ]
     },
     "execution_count": 28,
     "metadata": {},
     "output_type": "execute_result"
    }
   ],
   "source": [
    "not_empty_list"
   ]
  },
  {
   "cell_type": "code",
   "execution_count": 29,
   "id": "0d9234b5-d115-42f7-9a60-ba0ed0360bab",
   "metadata": {},
   "outputs": [
    {
     "data": {
      "text/plain": [
       "[1, 'A', 'B', None, [1, 2, 3]]"
      ]
     },
     "execution_count": 29,
     "metadata": {},
     "output_type": "execute_result"
    }
   ],
   "source": [
    "not_empty_list[1:4] = ['A', 'B']\n",
    "not_empty_list"
   ]
  },
  {
   "cell_type": "code",
   "execution_count": 30,
   "id": "bcc5688e-cb28-4c4e-9ac9-c5ed19b0aa3e",
   "metadata": {},
   "outputs": [
    {
     "data": {
      "text/plain": [
       "[1, 'A', 'B', 11, 12, 13, 14, 15]"
      ]
     },
     "execution_count": 30,
     "metadata": {},
     "output_type": "execute_result"
    }
   ],
   "source": [
    "not_empty_list[-2:] = [11, 12, 13, 14, 15]  #   -2:  это от минус2 до конца строки\n",
    "not_empty_list"
   ]
  },
  {
   "cell_type": "code",
   "execution_count": 31,
   "id": "90226e12-374b-4827-a959-ec79a098742f",
   "metadata": {},
   "outputs": [],
   "source": [
    "x, y, z = 10, True, 'ABC'"
   ]
  },
  {
   "cell_type": "code",
   "execution_count": 32,
   "id": "7db4f202-b767-4e54-bb8c-92df4e6191b6",
   "metadata": {},
   "outputs": [
    {
     "data": {
      "text/plain": [
       "10"
      ]
     },
     "execution_count": 32,
     "metadata": {},
     "output_type": "execute_result"
    }
   ],
   "source": [
    "x"
   ]
  },
  {
   "cell_type": "code",
   "execution_count": 33,
   "id": "8d682aaf-1323-432b-92ec-258b6a4b5449",
   "metadata": {},
   "outputs": [
    {
     "data": {
      "text/plain": [
       "True"
      ]
     },
     "execution_count": 33,
     "metadata": {},
     "output_type": "execute_result"
    }
   ],
   "source": [
    "y"
   ]
  },
  {
   "cell_type": "code",
   "execution_count": 34,
   "id": "368f9279-798d-4168-8f2f-f75a3d810f23",
   "metadata": {},
   "outputs": [
    {
     "data": {
      "text/plain": [
       "'ABC'"
      ]
     },
     "execution_count": 34,
     "metadata": {},
     "output_type": "execute_result"
    }
   ],
   "source": [
    "z"
   ]
  },
  {
   "cell_type": "markdown",
   "id": "22ce1f4f-c012-4abd-8bfe-9e5cb419ca62",
   "metadata": {},
   "source": [
    "# List methods"
   ]
  },
  {
   "cell_type": "code",
   "execution_count": 68,
   "id": "f18b9566-f887-42d7-a1ee-946ca8b57ff5",
   "metadata": {},
   "outputs": [],
   "source": [
    "cities = ['London', 'Tallinn', 'Paris', 'Rome', 'Riga']\n",
    "nums = [2, 8, -4, 10, 15, 0, 12]"
   ]
  },
  {
   "cell_type": "markdown",
   "id": "959859ea-08ca-49db-ae84-5889a715ac71",
   "metadata": {},
   "source": [
    "Adding methods"
   ]
  },
  {
   "cell_type": "code",
   "execution_count": 37,
   "id": "ca665264-e4a3-4b92-a828-f6a57ae38632",
   "metadata": {},
   "outputs": [],
   "source": [
    "cities.append('Moscow')"
   ]
  },
  {
   "cell_type": "code",
   "execution_count": 38,
   "id": "974433f7-1531-46a0-b0d6-8f2619f92c7e",
   "metadata": {},
   "outputs": [
    {
     "data": {
      "text/plain": [
       "['London', 'Tallinn', 'Paris', 'Rome', 'Riga', 'Moscow']"
      ]
     },
     "execution_count": 38,
     "metadata": {},
     "output_type": "execute_result"
    }
   ],
   "source": [
    "cities"
   ]
  },
  {
   "cell_type": "code",
   "execution_count": 39,
   "id": "12f9e772-45f4-43f1-8d45-faa4e948e886",
   "metadata": {},
   "outputs": [
    {
     "ename": "TypeError",
     "evalue": "list.append() takes exactly one argument (3 given)",
     "output_type": "error",
     "traceback": [
      "\u001b[1;31m---------------------------------------------------------------------------\u001b[0m",
      "\u001b[1;31mTypeError\u001b[0m                                 Traceback (most recent call last)",
      "Cell \u001b[1;32mIn[39], line 1\u001b[0m\n\u001b[1;32m----> 1\u001b[0m \u001b[43mnums\u001b[49m\u001b[38;5;241;43m.\u001b[39;49m\u001b[43mappend\u001b[49m\u001b[43m(\u001b[49m\u001b[38;5;241;43m1\u001b[39;49m\u001b[43m,\u001b[49m\u001b[43m \u001b[49m\u001b[38;5;241;43m2\u001b[39;49m\u001b[43m,\u001b[49m\u001b[43m \u001b[49m\u001b[38;5;241;43m3\u001b[39;49m\u001b[43m)\u001b[49m\n",
      "\u001b[1;31mTypeError\u001b[0m: list.append() takes exactly one argument (3 given)"
     ]
    }
   ],
   "source": [
    "nums.append(1, 2, 3)"
   ]
  },
  {
   "cell_type": "code",
   "execution_count": 41,
   "id": "cca5aae2-9a0b-4f93-acde-c154d30ee0b9",
   "metadata": {},
   "outputs": [
    {
     "data": {
      "text/plain": [
       "['London', 'Tallinn', 'Madrid', 'Madrid', 'Paris', 'Rome', 'Riga', 'Moscow']"
      ]
     },
     "execution_count": 41,
     "metadata": {},
     "output_type": "execute_result"
    }
   ],
   "source": [
    "cities.insert(2, 'Madrid')\n",
    "cities"
   ]
  },
  {
   "cell_type": "code",
   "execution_count": 45,
   "id": "0b6c8645-530c-4867-81d7-0ace16231f5b",
   "metadata": {},
   "outputs": [
    {
     "data": {
      "text/plain": [
       "[2, 8, -4, 10, 15, 0, 12, 12, 13, 14, 12, 13, 14]"
      ]
     },
     "execution_count": 45,
     "metadata": {},
     "output_type": "execute_result"
    }
   ],
   "source": [
    "nums.extend([12, 13, 14])\n",
    "nums"
   ]
  },
  {
   "cell_type": "markdown",
   "id": "527ef5b2-d05b-4e41-9292-6c84cc8a6da3",
   "metadata": {},
   "source": [
    "# List operations"
   ]
  },
  {
   "cell_type": "code",
   "execution_count": 46,
   "id": "a8cc233a-87ef-44db-ae49-01c277b2b531",
   "metadata": {},
   "outputs": [
    {
     "data": {
      "text/plain": [
       "[1, 2, 3, 4, 5, 6]"
      ]
     },
     "execution_count": 46,
     "metadata": {},
     "output_type": "execute_result"
    }
   ],
   "source": [
    "[1, 2, 3] + [4, 5, 6]"
   ]
  },
  {
   "cell_type": "code",
   "execution_count": 47,
   "id": "0ebae3eb-0545-4521-b6cd-e9b50d3c75c5",
   "metadata": {},
   "outputs": [
    {
     "data": {
      "text/plain": [
       "[1, 2, 3, 1, 2, 3, 1, 2, 3, 1, 2, 3]"
      ]
     },
     "execution_count": 47,
     "metadata": {},
     "output_type": "execute_result"
    }
   ],
   "source": [
    "[1, 2, 3] * 4"
   ]
  },
  {
   "cell_type": "markdown",
   "id": "0b54b4e7-6025-4715-a56a-9ae2b1fee4a5",
   "metadata": {},
   "source": [
    "**Removing elements**"
   ]
  },
  {
   "cell_type": "code",
   "execution_count": 50,
   "id": "fc54c198-543d-40f4-a686-0f06cf521fdc",
   "metadata": {},
   "outputs": [
    {
     "ename": "ValueError",
     "evalue": "list.remove(x): x not in list",
     "output_type": "error",
     "traceback": [
      "\u001b[1;31m---------------------------------------------------------------------------\u001b[0m",
      "\u001b[1;31mValueError\u001b[0m                                Traceback (most recent call last)",
      "Cell \u001b[1;32mIn[50], line 1\u001b[0m\n\u001b[1;32m----> 1\u001b[0m \u001b[43mcities\u001b[49m\u001b[38;5;241;43m.\u001b[39;49m\u001b[43mremove\u001b[49m\u001b[43m(\u001b[49m\u001b[38;5;124;43m'\u001b[39;49m\u001b[38;5;124;43mParis\u001b[39;49m\u001b[38;5;124;43m'\u001b[39;49m\u001b[43m)\u001b[49m\n\u001b[0;32m      2\u001b[0m cities\n",
      "\u001b[1;31mValueError\u001b[0m: list.remove(x): x not in list"
     ]
    }
   ],
   "source": [
    "cities.remove('Paris')\n",
    "cities"
   ]
  },
  {
   "cell_type": "code",
   "execution_count": 52,
   "id": "946312d9-fae4-4d96-aea8-c49db8334708",
   "metadata": {},
   "outputs": [
    {
     "data": {
      "text/plain": [
       "['London', 'Tallinn', 'Madrid', 'Madrid', 'Rome', 'Riga']"
      ]
     },
     "execution_count": 52,
     "metadata": {},
     "output_type": "execute_result"
    }
   ],
   "source": [
    "cities.pop()\n",
    "cities"
   ]
  },
  {
   "cell_type": "code",
   "execution_count": 53,
   "id": "cef2a78d-8222-43f6-ae99-8b2b3ed9f57c",
   "metadata": {},
   "outputs": [
    {
     "data": {
      "text/plain": [
       "['London', 'Tallinn', 'Madrid', 'Rome', 'Riga']"
      ]
     },
     "execution_count": 53,
     "metadata": {},
     "output_type": "execute_result"
    }
   ],
   "source": [
    "cities.pop(2)\n",
    "cities"
   ]
  },
  {
   "cell_type": "code",
   "execution_count": 55,
   "id": "4ebb532a-228b-4011-9899-f56cb8a87c8e",
   "metadata": {},
   "outputs": [
    {
     "name": "stdout",
     "output_type": "stream",
     "text": [
      "['London', 'Tallinn', 'Madrid']\n",
      "Riga\n"
     ]
    }
   ],
   "source": [
    "poped_item = cities.pop(3)\n",
    "print(cities)\n",
    "print(poped_item)"
   ]
  },
  {
   "cell_type": "markdown",
   "id": "4c8d0894-f6c4-4f61-829d-1cf97dcc995c",
   "metadata": {},
   "source": [
    "**Sorting methods**"
   ]
  },
  {
   "cell_type": "code",
   "execution_count": 56,
   "id": "284bf140-1760-487c-9071-e38f6707a270",
   "metadata": {},
   "outputs": [
    {
     "data": {
      "text/plain": [
       "['Madrid', 'Tallinn', 'London']"
      ]
     },
     "execution_count": 56,
     "metadata": {},
     "output_type": "execute_result"
    }
   ],
   "source": [
    "cities.reverse()\n",
    "cities"
   ]
  },
  {
   "cell_type": "code",
   "execution_count": 57,
   "id": "6c79fe92-5986-450c-81c9-60476b06dbb3",
   "metadata": {},
   "outputs": [
    {
     "data": {
      "text/plain": [
       "['London', 'Tallinn', 'Madrid']"
      ]
     },
     "execution_count": 57,
     "metadata": {},
     "output_type": "execute_result"
    }
   ],
   "source": [
    "cities[::-1]"
   ]
  },
  {
   "cell_type": "code",
   "execution_count": 58,
   "id": "22be5392-33ee-4469-b77c-9cec313e5a05",
   "metadata": {},
   "outputs": [
    {
     "data": {
      "text/plain": [
       "[2, 8, -4, 10, 15, 0, 12, 12, 13, 14, 12, 13, 14]"
      ]
     },
     "execution_count": 58,
     "metadata": {},
     "output_type": "execute_result"
    }
   ],
   "source": [
    "nums"
   ]
  },
  {
   "cell_type": "code",
   "execution_count": 60,
   "id": "eb5910c0-79be-4d78-b4f8-6243dcac7367",
   "metadata": {},
   "outputs": [],
   "source": [
    "nums.sort()  #меняет оригинал!"
   ]
  },
  {
   "cell_type": "code",
   "execution_count": 61,
   "id": "f5a07b78-98a0-4184-b47f-2f353d7010b8",
   "metadata": {},
   "outputs": [],
   "source": [
    "nums.sort(reverse=True)"
   ]
  },
  {
   "cell_type": "code",
   "execution_count": 62,
   "id": "f0c21a65-3c87-41bd-8673-be5aee5882a7",
   "metadata": {},
   "outputs": [
    {
     "data": {
      "text/plain": [
       "[15, 14, 14, 13, 13, 12, 12, 12, 10, 8, 2, 0, -4]"
      ]
     },
     "execution_count": 62,
     "metadata": {},
     "output_type": "execute_result"
    }
   ],
   "source": [
    "nums"
   ]
  },
  {
   "cell_type": "code",
   "execution_count": 64,
   "id": "f86b2ce9-4bd3-4e11-8909-92c2abb40d3d",
   "metadata": {},
   "outputs": [
    {
     "data": {
      "text/plain": [
       "[15, 14, 14, 13, 13, 12, 12, 12, 10, 8, 2, 0, -4]"
      ]
     },
     "execution_count": 64,
     "metadata": {},
     "output_type": "execute_result"
    }
   ],
   "source": [
    "sorted(nums, reverse=True)     #не меняет оригинал!"
   ]
  },
  {
   "cell_type": "code",
   "execution_count": 65,
   "id": "f7391383-1181-4eef-8de6-111422931370",
   "metadata": {},
   "outputs": [],
   "source": [
    "nums.extend('number')"
   ]
  },
  {
   "cell_type": "code",
   "execution_count": 66,
   "id": "f4c21a71-00e7-4ee1-9bea-86ad20df7032",
   "metadata": {},
   "outputs": [
    {
     "data": {
      "text/plain": [
       "[15, 14, 14, 13, 13, 12, 12, 12, 10, 8, 2, 0, -4, 'n', 'u', 'm', 'b', 'e', 'r']"
      ]
     },
     "execution_count": 66,
     "metadata": {},
     "output_type": "execute_result"
    }
   ],
   "source": [
    "nums"
   ]
  },
  {
   "cell_type": "code",
   "execution_count": 69,
   "id": "f6f5706f-8919-435d-8e9a-d8845dc58ad0",
   "metadata": {},
   "outputs": [
    {
     "data": {
      "text/plain": [
       "[2, 8, -4, 10, 15, 0, 12, 'number']"
      ]
     },
     "execution_count": 69,
     "metadata": {},
     "output_type": "execute_result"
    }
   ],
   "source": [
    "nums.append('number')\n",
    "nums"
   ]
  },
  {
   "cell_type": "markdown",
   "id": "fbe92de9-346a-430f-9c05-750a4c162361",
   "metadata": {},
   "source": [
    "**Find methods**"
   ]
  },
  {
   "cell_type": "code",
   "execution_count": 71,
   "id": "485269dd-efb8-4740-bbb8-e6440ff4ac3d",
   "metadata": {},
   "outputs": [
    {
     "data": {
      "text/plain": [
       "1"
      ]
     },
     "execution_count": 71,
     "metadata": {},
     "output_type": "execute_result"
    }
   ],
   "source": [
    "cities.index('Tallinn')"
   ]
  },
  {
   "cell_type": "code",
   "execution_count": 72,
   "id": "9f06b0c5-aa1f-4e2a-a4f1-d6f19ce7809b",
   "metadata": {},
   "outputs": [
    {
     "ename": "ValueError",
     "evalue": "'Brussel' is not in list",
     "output_type": "error",
     "traceback": [
      "\u001b[1;31m---------------------------------------------------------------------------\u001b[0m",
      "\u001b[1;31mValueError\u001b[0m                                Traceback (most recent call last)",
      "Cell \u001b[1;32mIn[72], line 1\u001b[0m\n\u001b[1;32m----> 1\u001b[0m \u001b[43mcities\u001b[49m\u001b[38;5;241;43m.\u001b[39;49m\u001b[43mindex\u001b[49m\u001b[43m(\u001b[49m\u001b[38;5;124;43m'\u001b[39;49m\u001b[38;5;124;43mBrussel\u001b[39;49m\u001b[38;5;124;43m'\u001b[39;49m\u001b[43m)\u001b[49m\n",
      "\u001b[1;31mValueError\u001b[0m: 'Brussel' is not in list"
     ]
    }
   ],
   "source": [
    "cities.index('Brussel')"
   ]
  },
  {
   "cell_type": "code",
   "execution_count": 73,
   "id": "2be384ea-9c8b-45d1-a2c2-f30d0f77232b",
   "metadata": {},
   "outputs": [
    {
     "ename": "ValueError",
     "evalue": "'Tallinn' is not in list",
     "output_type": "error",
     "traceback": [
      "\u001b[1;31m---------------------------------------------------------------------------\u001b[0m",
      "\u001b[1;31mValueError\u001b[0m                                Traceback (most recent call last)",
      "Cell \u001b[1;32mIn[73], line 1\u001b[0m\n\u001b[1;32m----> 1\u001b[0m \u001b[43mcities\u001b[49m\u001b[38;5;241;43m.\u001b[39;49m\u001b[43mindex\u001b[49m\u001b[43m(\u001b[49m\u001b[38;5;124;43m'\u001b[39;49m\u001b[38;5;124;43mTallinn\u001b[39;49m\u001b[38;5;124;43m'\u001b[39;49m\u001b[43m,\u001b[49m\u001b[43m \u001b[49m\u001b[38;5;241;43m2\u001b[39;49m\u001b[43m)\u001b[49m\n",
      "\u001b[1;31mValueError\u001b[0m: 'Tallinn' is not in list"
     ]
    }
   ],
   "source": [
    "cities.index('Tallinn', 2)"
   ]
  },
  {
   "cell_type": "code",
   "execution_count": 76,
   "id": "8f633166-55ea-426d-93bc-5e007dec3d7e",
   "metadata": {},
   "outputs": [
    {
     "data": {
      "text/plain": [
       "1"
      ]
     },
     "execution_count": 76,
     "metadata": {},
     "output_type": "execute_result"
    }
   ],
   "source": [
    "cities.count('Tallinn') #сколько раз встречается в списке"
   ]
  },
  {
   "cell_type": "code",
   "execution_count": 75,
   "id": "0e195422-b493-4a38-9e49-f6ac1e4f9d11",
   "metadata": {},
   "outputs": [
    {
     "data": {
      "text/plain": [
       "0"
      ]
     },
     "execution_count": 75,
     "metadata": {},
     "output_type": "execute_result"
    }
   ],
   "source": [
    "cities.count('Moscow')"
   ]
  },
  {
   "cell_type": "markdown",
   "id": "97714166-988e-4464-bd61-f14332f40982",
   "metadata": {},
   "source": [
    "**List-String methods**"
   ]
  },
  {
   "cell_type": "code",
   "execution_count": 78,
   "id": "f1431542-9497-4e8a-b356-e477922f07b0",
   "metadata": {},
   "outputs": [],
   "source": [
    "text = 'These     words will be a list soon!'"
   ]
  },
  {
   "cell_type": "code",
   "execution_count": 79,
   "id": "07b19499-3e12-4021-88da-cab08eb9d848",
   "metadata": {},
   "outputs": [
    {
     "data": {
      "text/plain": [
       "'These     words will be a list soon!'"
      ]
     },
     "execution_count": 79,
     "metadata": {},
     "output_type": "execute_result"
    }
   ],
   "source": [
    "text"
   ]
  },
  {
   "cell_type": "code",
   "execution_count": 96,
   "id": "8e0e0574-e567-49e2-a84c-17346f9c90c6",
   "metadata": {},
   "outputs": [
    {
     "data": {
      "text/plain": [
       "['These', 'words', 'will', 'be', 'a', 'list', 'soon!']"
      ]
     },
     "execution_count": 96,
     "metadata": {},
     "output_type": "execute_result"
    }
   ],
   "source": [
    "lst = text.split()\n",
    "lst"
   ]
  },
  {
   "cell_type": "code",
   "execution_count": 97,
   "id": "1475e800-f966-4481-b273-ece9cebf78a3",
   "metadata": {},
   "outputs": [],
   "source": [
    "new_text = '; '.join(lst)"
   ]
  },
  {
   "cell_type": "code",
   "execution_count": 98,
   "id": "e125a71d-eeab-4e10-aaf8-d4777d8bfe4a",
   "metadata": {},
   "outputs": [
    {
     "data": {
      "text/plain": [
       "'These; words; will; be; a; list; soon!'"
      ]
     },
     "execution_count": 98,
     "metadata": {},
     "output_type": "execute_result"
    }
   ],
   "source": [
    "new_text"
   ]
  },
  {
   "cell_type": "code",
   "execution_count": 100,
   "id": "fa51042e-eee3-4f07-8f3a-7caf4239b1ab",
   "metadata": {},
   "outputs": [
    {
     "data": {
      "text/plain": [
       "['These', 'words', 'will', 'be', 'a', 'list', 'soon!']"
      ]
     },
     "execution_count": 100,
     "metadata": {},
     "output_type": "execute_result"
    }
   ],
   "source": [
    "new_text.split('; ')   "
   ]
  },
  {
   "cell_type": "code",
   "execution_count": null,
   "id": "50cca226-6465-4b55-9713-fe8d305a8a49",
   "metadata": {},
   "outputs": [],
   "source": []
  },
  {
   "cell_type": "code",
   "execution_count": null,
   "id": "21cf7299-4106-472d-9df7-151636b74d06",
   "metadata": {},
   "outputs": [],
   "source": [
    "#ПРОПУСТИЛА заполнить!!!!!!!!!!!!!!"
   ]
  },
  {
   "cell_type": "code",
   "execution_count": null,
   "id": "0e4f6b15-d544-4da4-8fc6-fe3db8cf9f34",
   "metadata": {},
   "outputs": [],
   "source": []
  },
  {
   "cell_type": "markdown",
   "id": "cef6d8fb-f448-4a15-92ac-aa1ba6b811e1",
   "metadata": {},
   "source": [
    "**Copy and clear**"
   ]
  },
  {
   "cell_type": "code",
   "execution_count": 101,
   "id": "d3866d9f-6fc9-4391-b57a-841e2facfb25",
   "metadata": {},
   "outputs": [
    {
     "data": {
      "text/plain": [
       "['These', 'words', 'will', 'be', 'a', 'list', 'soon!']"
      ]
     },
     "execution_count": 101,
     "metadata": {},
     "output_type": "execute_result"
    }
   ],
   "source": [
    "lst"
   ]
  },
  {
   "cell_type": "code",
   "execution_count": 103,
   "id": "15fcc073-bf81-4919-86d1-ba27ab3cb819",
   "metadata": {},
   "outputs": [],
   "source": [
    "lst.clear()  #не удаляет обьект, а его содержимое"
   ]
  },
  {
   "cell_type": "code",
   "execution_count": 104,
   "id": "59e8749d-be56-4a0b-9ccf-8a08c450f6b3",
   "metadata": {},
   "outputs": [
    {
     "data": {
      "text/plain": [
       "[]"
      ]
     },
     "execution_count": 104,
     "metadata": {},
     "output_type": "execute_result"
    }
   ],
   "source": [
    "lst"
   ]
  },
  {
   "cell_type": "code",
   "execution_count": 108,
   "id": "c7cb1243-c56c-46e2-b369-398400fc710b",
   "metadata": {},
   "outputs": [
    {
     "ename": "NameError",
     "evalue": "name 'lst' is not defined",
     "output_type": "error",
     "traceback": [
      "\u001b[1;31m---------------------------------------------------------------------------\u001b[0m",
      "\u001b[1;31mNameError\u001b[0m                                 Traceback (most recent call last)",
      "Cell \u001b[1;32mIn[108], line 1\u001b[0m\n\u001b[1;32m----> 1\u001b[0m \u001b[38;5;28;01mdel\u001b[39;00m(\u001b[43mlst\u001b[49m) \u001b[38;5;66;03m# удаляет обьект полностью!!!\u001b[39;00m\n",
      "\u001b[1;31mNameError\u001b[0m: name 'lst' is not defined"
     ]
    }
   ],
   "source": [
    "del(lst) # удаляет обьект полностью!!!"
   ]
  },
  {
   "cell_type": "code",
   "execution_count": 106,
   "id": "e740ff8b-a423-4045-9c2e-65395592423e",
   "metadata": {},
   "outputs": [
    {
     "ename": "NameError",
     "evalue": "name 'lst' is not defined",
     "output_type": "error",
     "traceback": [
      "\u001b[1;31m---------------------------------------------------------------------------\u001b[0m",
      "\u001b[1;31mNameError\u001b[0m                                 Traceback (most recent call last)",
      "Cell \u001b[1;32mIn[106], line 1\u001b[0m\n\u001b[1;32m----> 1\u001b[0m \u001b[43mlst\u001b[49m\n",
      "\u001b[1;31mNameError\u001b[0m: name 'lst' is not defined"
     ]
    }
   ],
   "source": [
    "lst"
   ]
  },
  {
   "cell_type": "code",
   "execution_count": 110,
   "id": "a08ec94d-488c-4d93-a848-56013b76339e",
   "metadata": {},
   "outputs": [],
   "source": [
    "lst1 = [1, 2, 3]"
   ]
  },
  {
   "cell_type": "code",
   "execution_count": 111,
   "id": "143e654d-1c11-4289-8dcb-d703d6447844",
   "metadata": {},
   "outputs": [
    {
     "data": {
      "text/plain": [
       "1621829890304"
      ]
     },
     "execution_count": 111,
     "metadata": {},
     "output_type": "execute_result"
    }
   ],
   "source": [
    "id(lst1)"
   ]
  },
  {
   "cell_type": "code",
   "execution_count": 112,
   "id": "90b36554-fbd9-48c6-b21e-d9bfa5834f46",
   "metadata": {},
   "outputs": [
    {
     "data": {
      "text/plain": [
       "140717549871912"
      ]
     },
     "execution_count": 112,
     "metadata": {},
     "output_type": "execute_result"
    }
   ],
   "source": [
    "id(1)"
   ]
  },
  {
   "cell_type": "code",
   "execution_count": 117,
   "id": "ff39ae63-5c73-44f0-8f1d-d7cde352c1fb",
   "metadata": {},
   "outputs": [],
   "source": [
    "lst2 = lst1  #  таким образом не создаем новый обьект, а удлинняем цепочку ссылок на обьект, то есть ссылка на ссылку"
   ]
  },
  {
   "cell_type": "code",
   "execution_count": 114,
   "id": "ba1e2955-a8b1-4f2c-85f4-b8cfb332a7c2",
   "metadata": {},
   "outputs": [
    {
     "data": {
      "text/plain": [
       "[1, 2, 3]"
      ]
     },
     "execution_count": 114,
     "metadata": {},
     "output_type": "execute_result"
    }
   ],
   "source": [
    "lst2"
   ]
  },
  {
   "cell_type": "code",
   "execution_count": 115,
   "id": "fecf5d7c-d4fe-46ba-ba5c-582b3623275c",
   "metadata": {},
   "outputs": [],
   "source": [
    "lst1[0] = 10\n",
    "lst2[-1] = 11"
   ]
  },
  {
   "cell_type": "code",
   "execution_count": 116,
   "id": "41a38f07-f01f-4d3c-984f-050201f7bc67",
   "metadata": {},
   "outputs": [
    {
     "data": {
      "text/plain": [
       "[10, 2, 11]"
      ]
     },
     "execution_count": 116,
     "metadata": {},
     "output_type": "execute_result"
    }
   ],
   "source": [
    "lst1"
   ]
  },
  {
   "cell_type": "code",
   "execution_count": 118,
   "id": "d532a3ce-9290-47f2-9ac3-e4e2616d4817",
   "metadata": {},
   "outputs": [
    {
     "data": {
      "text/plain": [
       "[10, 2, 11]"
      ]
     },
     "execution_count": 118,
     "metadata": {},
     "output_type": "execute_result"
    }
   ],
   "source": [
    "lst2"
   ]
  },
  {
   "cell_type": "code",
   "execution_count": 119,
   "id": "46b2c057-77b7-47ca-89c2-e16dbec1c802",
   "metadata": {},
   "outputs": [
    {
     "name": "stdout",
     "output_type": "stream",
     "text": [
      "1621829890304\n",
      "1621829890304\n"
     ]
    }
   ],
   "source": [
    "print(id(lst1))\n",
    "print(id(lst2))"
   ]
  },
  {
   "cell_type": "code",
   "execution_count": 120,
   "id": "73579462-48ce-4131-b3f0-d565ec59088c",
   "metadata": {},
   "outputs": [],
   "source": [
    "lst1 = [1, 2, 3]\n",
    "lst2 = lst1.copy()"
   ]
  },
  {
   "cell_type": "code",
   "execution_count": 122,
   "id": "9eb6e9cb-05fc-4f48-b156-cb22db392f5d",
   "metadata": {},
   "outputs": [
    {
     "name": "stdout",
     "output_type": "stream",
     "text": [
      "[1, 2, 3]\n",
      "[1, 2, 3]\n"
     ]
    }
   ],
   "source": [
    "print(lst1)\n",
    "print(lst2)"
   ]
  },
  {
   "cell_type": "code",
   "execution_count": 123,
   "id": "6886e277-6860-41c9-8ea0-659f712aa709",
   "metadata": {},
   "outputs": [
    {
     "name": "stdout",
     "output_type": "stream",
     "text": [
      "1621823981696\n",
      "1621829885120\n"
     ]
    }
   ],
   "source": [
    "print(id(lst1))\n",
    "print(id(lst2))"
   ]
  },
  {
   "cell_type": "code",
   "execution_count": 124,
   "id": "eefa85d1-a389-4e90-a0ce-9326f5a8a55e",
   "metadata": {},
   "outputs": [],
   "source": [
    "lst1[1] = 111"
   ]
  },
  {
   "cell_type": "code",
   "execution_count": 126,
   "id": "e6a13349-a178-4510-8569-4b480eb3c4f0",
   "metadata": {},
   "outputs": [
    {
     "data": {
      "text/plain": [
       "[1, 2, 3]"
      ]
     },
     "execution_count": 126,
     "metadata": {},
     "output_type": "execute_result"
    }
   ],
   "source": [
    "lst2"
   ]
  },
  {
   "cell_type": "markdown",
   "id": "c45dc9d1-fcd5-4a76-9e41-773e92763309",
   "metadata": {},
   "source": [
    "**Stat function**"
   ]
  },
  {
   "cell_type": "code",
   "execution_count": 127,
   "id": "0daacf9b-18e7-4563-84e8-a566586d37f7",
   "metadata": {},
   "outputs": [],
   "source": [
    "lst = [-2, 17, 111, -20, 0, 31]"
   ]
  },
  {
   "cell_type": "code",
   "execution_count": 128,
   "id": "362de7fb-5252-410a-8a9c-97eda0b5ad84",
   "metadata": {},
   "outputs": [
    {
     "data": {
      "text/plain": [
       "-20"
      ]
     },
     "execution_count": 128,
     "metadata": {},
     "output_type": "execute_result"
    }
   ],
   "source": [
    "min(lst)"
   ]
  },
  {
   "cell_type": "code",
   "execution_count": 129,
   "id": "65796b72-d06e-4408-9dff-bfd769d4c702",
   "metadata": {},
   "outputs": [
    {
     "data": {
      "text/plain": [
       "111"
      ]
     },
     "execution_count": 129,
     "metadata": {},
     "output_type": "execute_result"
    }
   ],
   "source": [
    "max(lst)"
   ]
  },
  {
   "cell_type": "code",
   "execution_count": 130,
   "id": "ae675e09-5c82-449d-bd0d-b5b4ee48e6b3",
   "metadata": {},
   "outputs": [
    {
     "data": {
      "text/plain": [
       "137"
      ]
     },
     "execution_count": 130,
     "metadata": {},
     "output_type": "execute_result"
    }
   ],
   "source": [
    "sum(lst)"
   ]
  },
  {
   "cell_type": "code",
   "execution_count": null,
   "id": "712603ef-ad16-4c62-85d1-44f5381fdcf7",
   "metadata": {},
   "outputs": [],
   "source": []
  },
  {
   "cell_type": "markdown",
   "id": "db153860-fa14-4ea0-9186-0e85dfc19cc5",
   "metadata": {},
   "source": [
    "# Tuple"
   ]
  },
  {
   "cell_type": "code",
   "execution_count": 133,
   "id": "e886d4e3-4fce-4751-9a6d-290eae011939",
   "metadata": {},
   "outputs": [],
   "source": [
    "empty_tpl = ()"
   ]
  },
  {
   "cell_type": "code",
   "execution_count": 134,
   "id": "0e5a7954-97ab-4026-9bb5-3ffc981c5c6b",
   "metadata": {},
   "outputs": [
    {
     "data": {
      "text/plain": [
       "()"
      ]
     },
     "execution_count": 134,
     "metadata": {},
     "output_type": "execute_result"
    }
   ],
   "source": [
    "empty_tpl"
   ]
  },
  {
   "cell_type": "code",
   "execution_count": 135,
   "id": "281dfd78-ac92-48f6-8e73-171a44f3bd1d",
   "metadata": {},
   "outputs": [
    {
     "data": {
      "text/plain": [
       "tuple"
      ]
     },
     "execution_count": 135,
     "metadata": {},
     "output_type": "execute_result"
    }
   ],
   "source": [
    "type(empty_tpl)"
   ]
  },
  {
   "cell_type": "code",
   "execution_count": 136,
   "id": "11a41163-aa4c-4760-8308-46cc756c1183",
   "metadata": {},
   "outputs": [],
   "source": [
    "t1 = (1, 2, 3)\n",
    "t2 = (4, 5, 6)"
   ]
  },
  {
   "cell_type": "code",
   "execution_count": null,
   "id": "6d63a387-5ddd-4e57-8ffc-f7998795c0c3",
   "metadata": {},
   "outputs": [
    {
     "data": {
      "text/plain": [
       "2"
      ]
     },
     "execution_count": 137,
     "metadata": {},
     "output_type": "execute_result"
    }
   ],
   "source": [
    "t1[1]"
   ]
  },
  {
   "cell_type": "code",
   "execution_count": 138,
   "id": "4bb96061-5c12-4b7c-8aca-31ad45fe1be5",
   "metadata": {},
   "outputs": [
    {
     "ename": "TypeError",
     "evalue": "'tuple' object does not support item assignment",
     "output_type": "error",
     "traceback": [
      "\u001b[1;31m---------------------------------------------------------------------------\u001b[0m",
      "\u001b[1;31mTypeError\u001b[0m                                 Traceback (most recent call last)",
      "Cell \u001b[1;32mIn[138], line 1\u001b[0m\n\u001b[1;32m----> 1\u001b[0m \u001b[43mt1\u001b[49m\u001b[43m[\u001b[49m\u001b[38;5;241;43m1\u001b[39;49m\u001b[43m]\u001b[49m \u001b[38;5;241m=\u001b[39m \u001b[38;5;241m100\u001b[39m\n",
      "\u001b[1;31mTypeError\u001b[0m: 'tuple' object does not support item assignment"
     ]
    }
   ],
   "source": [
    "t1[1] = 100"
   ]
  },
  {
   "cell_type": "code",
   "execution_count": 139,
   "id": "1d5b7bb0-f793-4bfb-8181-37910e758c8c",
   "metadata": {},
   "outputs": [
    {
     "data": {
      "text/plain": [
       "(1, 2, 3, 4, 5, 6)"
      ]
     },
     "execution_count": 139,
     "metadata": {},
     "output_type": "execute_result"
    }
   ],
   "source": [
    "t1 + t2"
   ]
  },
  {
   "cell_type": "code",
   "execution_count": 140,
   "id": "105ed068-6f1e-4329-8cab-89c3de7e0b68",
   "metadata": {},
   "outputs": [
    {
     "data": {
      "text/plain": [
       "(1, 2, 3, 1, 2, 3, 1, 2, 3)"
      ]
     },
     "execution_count": 140,
     "metadata": {},
     "output_type": "execute_result"
    }
   ],
   "source": [
    "t1 * 3"
   ]
  },
  {
   "cell_type": "code",
   "execution_count": 141,
   "id": "d9cf8433-aa9e-4b14-a82a-e872c15c09fd",
   "metadata": {},
   "outputs": [
    {
     "data": {
      "text/plain": [
       "[1, 2, 3]"
      ]
     },
     "execution_count": 141,
     "metadata": {},
     "output_type": "execute_result"
    }
   ],
   "source": [
    "list(t1)"
   ]
  },
  {
   "cell_type": "code",
   "execution_count": 142,
   "id": "51c62a58-2cff-4c12-8936-ed4dd02a4837",
   "metadata": {},
   "outputs": [
    {
     "data": {
      "text/plain": [
       "(-2, 17, 111, -20, 0, 31)"
      ]
     },
     "execution_count": 142,
     "metadata": {},
     "output_type": "execute_result"
    }
   ],
   "source": [
    "tuple(lst)"
   ]
  },
  {
   "cell_type": "markdown",
   "id": "f7ae2f87-bc8f-40a3-afbd-6e51df327530",
   "metadata": {},
   "source": [
    "# Range"
   ]
  },
  {
   "cell_type": "raw",
   "id": "19326402-9b6e-45e9-9981-0d1dba9af413",
   "metadata": {},
   "source": [
    "range(10) # числованная последовательность"
   ]
  },
  {
   "cell_type": "code",
   "execution_count": 143,
   "id": "68e2f8d6-deee-45df-a414-64cc4a927e37",
   "metadata": {},
   "outputs": [
    {
     "data": {
      "text/plain": [
       "range(0, 10)"
      ]
     },
     "execution_count": 143,
     "metadata": {},
     "output_type": "execute_result"
    }
   ],
   "source": [
    "range(0, 10)"
   ]
  },
  {
   "cell_type": "code",
   "execution_count": 145,
   "id": "2b64c750-b657-4908-b974-3a34c21d750d",
   "metadata": {},
   "outputs": [
    {
     "name": "stdout",
     "output_type": "stream",
     "text": [
      "0 1 2 3 4 5 6 7 8 9\n"
     ]
    }
   ],
   "source": [
    "print(*range(10)) # распаковка * чтобы все элементы вывести"
   ]
  },
  {
   "cell_type": "code",
   "execution_count": 147,
   "id": "78af910b-be2a-4113-a391-65078fee3fb2",
   "metadata": {},
   "outputs": [
    {
     "name": "stdout",
     "output_type": "stream",
     "text": [
      "-5 -4 -3 -2 -1 0 1 2 3 4 5 6 7 8 9 10 11 12 13 14\n"
     ]
    }
   ],
   "source": [
    "print(*range(-5, 15))"
   ]
  },
  {
   "cell_type": "code",
   "execution_count": 148,
   "id": "c79a290e-3712-4fa8-93e7-0153f63ebdcb",
   "metadata": {},
   "outputs": [
    {
     "data": {
      "text/plain": [
       "-5"
      ]
     },
     "execution_count": 148,
     "metadata": {},
     "output_type": "execute_result"
    }
   ],
   "source": [
    "sum(range(-5, 5))"
   ]
  },
  {
   "cell_type": "code",
   "execution_count": null,
   "id": "0f329d50-e404-4e2b-8737-1ac205afe8b1",
   "metadata": {},
   "outputs": [],
   "source": [
    "print"
   ]
  },
  {
   "cell_type": "code",
   "execution_count": 149,
   "id": "7506669b-8d6d-41b4-a56c-045e611fa7c5",
   "metadata": {},
   "outputs": [
    {
     "name": "stdout",
     "output_type": "stream",
     "text": [
      "-8 -6 -4 -2 0 2 4 6\n"
     ]
    }
   ],
   "source": [
    "print(*range(-8, 8, 2)) # начало последовательности, конец послед и шаг"
   ]
  },
  {
   "cell_type": "code",
   "execution_count": 150,
   "id": "31b765d6-554f-4a27-80b8-245a96dac14f",
   "metadata": {},
   "outputs": [
    {
     "name": "stdout",
     "output_type": "stream",
     "text": [
      "3 2 1 0 -1 -2 -3 -4 -5 -6\n"
     ]
    }
   ],
   "source": [
    "print(*range(3, -7, -1))"
   ]
  },
  {
   "cell_type": "code",
   "execution_count": 152,
   "id": "e2701bda-3ff6-4fc0-b23b-6c69bc9f9be9",
   "metadata": {},
   "outputs": [
    {
     "data": {
      "text/plain": [
       "[range(1, 21)]"
      ]
     },
     "execution_count": 152,
     "metadata": {},
     "output_type": "execute_result"
    }
   ],
   "source": [
    "lst = [range(1,21)]\n",
    "lst"
   ]
  },
  {
   "cell_type": "code",
   "execution_count": 153,
   "id": "fdca98f2-d19b-45c2-bd75-34543d0a999a",
   "metadata": {},
   "outputs": [
    {
     "data": {
      "text/plain": [
       "[1, 2, 3, 4, 5, 6, 7, 8, 9, 10, 11, 12, 13, 14, 15, 16, 17, 18, 19, 20]"
      ]
     },
     "execution_count": 153,
     "metadata": {},
     "output_type": "execute_result"
    }
   ],
   "source": [
    "lst = [*range(1,21)] # самый быстрый способо создать лист с чиловой последовательностью\n",
    "lst"
   ]
  },
  {
   "cell_type": "markdown",
   "id": "11760cc6-6f2f-4b8f-8ec3-27b16b6ae127",
   "metadata": {},
   "source": [
    "# For loop"
   ]
  },
  {
   "cell_type": "code",
   "execution_count": 154,
   "id": "80b7256c-9716-4b11-a3bf-337cbfea72b5",
   "metadata": {},
   "outputs": [
    {
     "name": "stdout",
     "output_type": "stream",
     "text": [
      "0\n",
      "1\n",
      "4\n",
      "9\n",
      "16\n",
      "25\n",
      "36\n",
      "49\n",
      "64\n",
      "81\n"
     ]
    }
   ],
   "source": [
    "for x in range(10):\n",
    "    x **= 2\n",
    "    print(x)"
   ]
  },
  {
   "cell_type": "code",
   "execution_count": 155,
   "id": "278db1ca-aa63-4a21-8d35-58fd805937a3",
   "metadata": {},
   "outputs": [
    {
     "name": "stdout",
     "output_type": "stream",
     "text": [
      "[b'\\xff\\xfeH\\x00', b'\\xff\\xfee\\x00', b'\\xff\\xfel\\x00', b'\\xff\\xfel\\x00', b'\\xff\\xfeo\\x00', b'\\xff\\xfe \\x00', b'\\xff\\xfew\\x00', b'\\xff\\xfeo\\x00', b'\\xff\\xfer\\x00', b'\\xff\\xfel\\x00', b'\\xff\\xfed\\x00']\n"
     ]
    }
   ],
   "source": [
    "string = 'Hello world'\n",
    "lst = []\n",
    "for x in string:\n",
    "    lst.append(x.encode('utf16'))\n",
    "    \n",
    "print(lst)"
   ]
  },
  {
   "cell_type": "code",
   "execution_count": 159,
   "id": "a4b4537d-0e11-48c1-ad4c-1fc74fc2a867",
   "metadata": {},
   "outputs": [
    {
     "data": {
      "text/plain": [
       "'HELLO WORLD'"
      ]
     },
     "execution_count": 159,
     "metadata": {},
     "output_type": "execute_result"
    }
   ],
   "source": [
    "new_string = ''\n",
    "\n",
    "for el in lst:\n",
    "    new_string += el.decode('utf16').upper()     #  += это оператор переназначения\n",
    "    \n",
    "new_string"
   ]
  },
  {
   "cell_type": "code",
   "execution_count": 160,
   "id": "d254695d-cc07-4041-82a0-451f308bab46",
   "metadata": {},
   "outputs": [],
   "source": [
    "courses = ['Math', 'Art', 'History', 'Physics', 'English']\n",
    "names = ['Jack' 'Ann', 'Kate', 'Helen']\n",
    "grades = ['A+', 'A', 'A-', 'B']"
   ]
  },
  {
   "cell_type": "code",
   "execution_count": 161,
   "id": "b0c6d5ee-1f14-4813-9430-03a6d0a145a1",
   "metadata": {},
   "outputs": [
    {
     "name": "stdout",
     "output_type": "stream",
     "text": [
      "JackAnn got A+ in Math yesterday\n",
      "JackAnn got A in Math yesterday\n",
      "JackAnn got A- in Math yesterday\n",
      "JackAnn got B in Math yesterday\n",
      "Kate got A+ in Math yesterday\n",
      "Kate got A in Math yesterday\n",
      "Kate got A- in Math yesterday\n",
      "Kate got B in Math yesterday\n",
      "Helen got A+ in Math yesterday\n",
      "Helen got A in Math yesterday\n",
      "Helen got A- in Math yesterday\n",
      "Helen got B in Math yesterday\n",
      "JackAnn got A+ in Art yesterday\n",
      "JackAnn got A in Art yesterday\n",
      "JackAnn got A- in Art yesterday\n",
      "JackAnn got B in Art yesterday\n",
      "Kate got A+ in Art yesterday\n",
      "Kate got A in Art yesterday\n",
      "Kate got A- in Art yesterday\n",
      "Kate got B in Art yesterday\n",
      "Helen got A+ in Art yesterday\n",
      "Helen got A in Art yesterday\n",
      "Helen got A- in Art yesterday\n",
      "Helen got B in Art yesterday\n",
      "JackAnn got A+ in History yesterday\n",
      "JackAnn got A in History yesterday\n",
      "JackAnn got A- in History yesterday\n",
      "JackAnn got B in History yesterday\n",
      "Kate got A+ in History yesterday\n",
      "Kate got A in History yesterday\n",
      "Kate got A- in History yesterday\n",
      "Kate got B in History yesterday\n",
      "Helen got A+ in History yesterday\n",
      "Helen got A in History yesterday\n",
      "Helen got A- in History yesterday\n",
      "Helen got B in History yesterday\n",
      "JackAnn got A+ in Physics yesterday\n",
      "JackAnn got A in Physics yesterday\n",
      "JackAnn got A- in Physics yesterday\n",
      "JackAnn got B in Physics yesterday\n",
      "Kate got A+ in Physics yesterday\n",
      "Kate got A in Physics yesterday\n",
      "Kate got A- in Physics yesterday\n",
      "Kate got B in Physics yesterday\n",
      "Helen got A+ in Physics yesterday\n",
      "Helen got A in Physics yesterday\n",
      "Helen got A- in Physics yesterday\n",
      "Helen got B in Physics yesterday\n",
      "JackAnn got A+ in English yesterday\n",
      "JackAnn got A in English yesterday\n",
      "JackAnn got A- in English yesterday\n",
      "JackAnn got B in English yesterday\n",
      "Kate got A+ in English yesterday\n",
      "Kate got A in English yesterday\n",
      "Kate got A- in English yesterday\n",
      "Kate got B in English yesterday\n",
      "Helen got A+ in English yesterday\n",
      "Helen got A in English yesterday\n",
      "Helen got A- in English yesterday\n",
      "Helen got B in English yesterday\n"
     ]
    }
   ],
   "source": [
    "for course in courses:\n",
    "    for name in names:\n",
    "        for grade in grades:\n",
    "            print(f'{name} got {grade} in {course} yesterday')"
   ]
  },
  {
   "cell_type": "code",
   "execution_count": 162,
   "id": "220d59a9-fa01-4441-a109-4c89cd24e4f7",
   "metadata": {},
   "outputs": [],
   "source": [
    "lst = ['A', 'B', 'C', 'D', 'E']"
   ]
  },
  {
   "cell_type": "code",
   "execution_count": 163,
   "id": "08bba4bf-a432-4787-8e08-bd17185d06d9",
   "metadata": {},
   "outputs": [
    {
     "name": "stdout",
     "output_type": "stream",
     "text": [
      "Element A has an index 0\n",
      "Element B has an index 1\n",
      "Element C has an index 2\n",
      "Element D has an index 3\n",
      "Element E has an index 4\n"
     ]
    }
   ],
   "source": [
    "for i in range(len(lst)):\n",
    "    print('Element', lst[i], 'has an index', i)"
   ]
  },
  {
   "cell_type": "code",
   "execution_count": 168,
   "id": "7959e4b5-11ae-49b2-ad96-9c6fa11eec8d",
   "metadata": {},
   "outputs": [
    {
     "name": "stdout",
     "output_type": "stream",
     "text": [
      "The numbers are:    \n",
      "\n",
      "[-5, 12, 721, -20, 0, 19, 74, 5]\n",
      "\n",
      "The min value is: -20\n",
      "The max value is: 721\n",
      "The sum is: 806\n"
     ]
    }
   ],
   "source": [
    "num_str = '-5 12 721 -20 0 19 74 5'\n",
    "num_lst = []\n",
    "\n",
    "for num in num_str.split():    # переводим в список сттроку с цифрами\n",
    "    num = int(num)\n",
    "    num_lst.append(num)\n",
    "    \n",
    "print(f'''The numbers are:    \n",
    "\n",
    "{num_lst}\n",
    "\n",
    "The min value is: {min(num_lst)}\n",
    "The max value is: {max(num_lst)}\n",
    "The sum is: {sum(num_lst)}''')    # при тройных кавычках, пайтон  будет соблюдать все переносы строк!!"
   ]
  },
  {
   "cell_type": "code",
   "execution_count": null,
   "id": "358e8631-c350-4e4b-9adb-392f095e9ab4",
   "metadata": {},
   "outputs": [],
   "source": []
  },
  {
   "cell_type": "code",
   "execution_count": null,
   "id": "0481af72-1c6d-429c-bbbb-bef1fd3fa481",
   "metadata": {},
   "outputs": [],
   "source": []
  },
  {
   "cell_type": "code",
   "execution_count": null,
   "id": "262000a8-9b6d-4832-a191-36392b118738",
   "metadata": {},
   "outputs": [],
   "source": []
  },
  {
   "cell_type": "code",
   "execution_count": null,
   "id": "c7469739-db5f-4ab5-aafa-8e5771410609",
   "metadata": {},
   "outputs": [],
   "source": []
  },
  {
   "cell_type": "code",
   "execution_count": null,
   "id": "12558fe7-cd9d-4f82-807e-8314686fc640",
   "metadata": {},
   "outputs": [],
   "source": []
  }
 ],
 "metadata": {
  "kernelspec": {
   "display_name": "Python 3 (ipykernel)",
   "language": "python",
   "name": "python3"
  },
  "language_info": {
   "codemirror_mode": {
    "name": "ipython",
    "version": 3
   },
   "file_extension": ".py",
   "mimetype": "text/x-python",
   "name": "python",
   "nbconvert_exporter": "python",
   "pygments_lexer": "ipython3",
   "version": "3.11.1"
  }
 },
 "nbformat": 4,
 "nbformat_minor": 5
}
